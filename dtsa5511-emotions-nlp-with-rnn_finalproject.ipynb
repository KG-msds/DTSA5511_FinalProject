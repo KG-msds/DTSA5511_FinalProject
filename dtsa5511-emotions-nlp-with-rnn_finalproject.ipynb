{
 "cells": [
  {
   "cell_type": "markdown",
   "metadata": {},
   "source": [
    "## DTSA5511: Introduction to Deep Learning\n",
    "\n",
    "### Final Project: Classifiying Emotions Using RNN\n",
    "\n",
    "**Overview**\n",
    "\n",
    "Emotion detection and sentiment analysis are large parts of Natural Language Processing, where the goal is to build models that are able to detect the emotion or polarity of text. This is important due to the nuances within spoken/written language; many words have multiple meanings, so the task is inherently contextual.\n",
    "\n",
    "Many use cases exist for emotional classification - it could be market researchers that are trying to understand the impact of a product launch, or it could be used to help predict mental health emergencies based upon a patient's speech.\n",
    "\n",
    "**Project Goal**\n",
    "\n",
    "The source data is the Kaggle dataset [Emotions Dataset for NLP](https://www.kaggle.com/datasets/praveengovi/emotions-dataset-for-nlp), and the goal of this project will be to classify the emotions described within a snippet of text. Natural language processing is first performed, then a Recurrent Neural Network (RNN) is used to classify each text string. RNNs are better suited for text classification than standard multi-layer perceptrons, because they factor in results from previous items in a sequence, which allows the model greater context for emotional states.\n",
    "\n",
    "[Github Link](https://github.com/KG-msds/DTSA5511_FinalProject)\n",
    "\n",
    "\n",
    "### Exploratory Data Analysis\n",
    "\n",
    "There are 3 txt files included as part of the emotions dataset: train, val, and test."
   ]
  },
  {
   "cell_type": "code",
   "execution_count": 13,
   "metadata": {
    "execution": {
     "iopub.execute_input": "2023-12-10T20:05:46.890138Z",
     "iopub.status.busy": "2023-12-10T20:05:46.889462Z",
     "iopub.status.idle": "2023-12-10T20:05:46.895651Z",
     "shell.execute_reply": "2023-12-10T20:05:46.894715Z",
     "shell.execute_reply.started": "2023-12-10T20:05:46.890102Z"
    }
   },
   "outputs": [],
   "source": [
    "import numpy as np\n",
    "import matplotlib.pyplot as plt\n",
    "import pandas as pd\n",
    "from tensorflow import keras\n",
    "import os \n",
    "import re\n",
    "import seaborn as sns\n",
    "from sklearn.preprocessing import LabelEncoder\n",
    "from sklearn.metrics import confusion_matrix, accuracy_score\n",
    "from imblearn.over_sampling import SMOTE\n",
    "from sklearn.feature_extraction.text import TfidfVectorizer as tfidf"
   ]
  },
  {
   "cell_type": "code",
   "execution_count": 14,
   "metadata": {
    "execution": {
     "iopub.execute_input": "2023-12-10T20:05:46.897363Z",
     "iopub.status.busy": "2023-12-10T20:05:46.897095Z",
     "iopub.status.idle": "2023-12-10T20:05:46.957923Z",
     "shell.execute_reply": "2023-12-10T20:05:46.956909Z",
     "shell.execute_reply.started": "2023-12-10T20:05:46.897339Z"
    }
   },
   "outputs": [],
   "source": [
    "## Load in source data\n",
    "\n",
    "train_df = pd.read_csv('/kaggle/input/emotions-dataset-for-nlp/train.txt', \n",
    "                       sep=\";\", header = None)\n",
    "\n",
    "test_df = pd.read_csv('/kaggle/input/emotions-dataset-for-nlp/test.txt', \n",
    "                       sep=\";\", header = None)\n",
    "\n",
    "val_df = pd.read_csv('/kaggle/input/emotions-dataset-for-nlp/val.txt', \n",
    "                       sep=\";\", header = None)"
   ]
  },
  {
   "cell_type": "code",
   "execution_count": 15,
   "metadata": {
    "execution": {
     "iopub.execute_input": "2023-12-10T20:05:46.959726Z",
     "iopub.status.busy": "2023-12-10T20:05:46.959451Z",
     "iopub.status.idle": "2023-12-10T20:05:46.968497Z",
     "shell.execute_reply": "2023-12-10T20:05:46.967425Z",
     "shell.execute_reply.started": "2023-12-10T20:05:46.959702Z"
    }
   },
   "outputs": [
    {
     "data": {
      "text/html": [
       "<div>\n",
       "<style scoped>\n",
       "    .dataframe tbody tr th:only-of-type {\n",
       "        vertical-align: middle;\n",
       "    }\n",
       "\n",
       "    .dataframe tbody tr th {\n",
       "        vertical-align: top;\n",
       "    }\n",
       "\n",
       "    .dataframe thead th {\n",
       "        text-align: right;\n",
       "    }\n",
       "</style>\n",
       "<table border=\"1\" class=\"dataframe\">\n",
       "  <thead>\n",
       "    <tr style=\"text-align: right;\">\n",
       "      <th></th>\n",
       "      <th>0</th>\n",
       "      <th>1</th>\n",
       "    </tr>\n",
       "  </thead>\n",
       "  <tbody>\n",
       "    <tr>\n",
       "      <th>0</th>\n",
       "      <td>im feeling quite sad and sorry for myself but ...</td>\n",
       "      <td>sadness</td>\n",
       "    </tr>\n",
       "    <tr>\n",
       "      <th>1</th>\n",
       "      <td>i feel like i am still looking at a blank canv...</td>\n",
       "      <td>sadness</td>\n",
       "    </tr>\n",
       "    <tr>\n",
       "      <th>2</th>\n",
       "      <td>i feel like a faithful servant</td>\n",
       "      <td>love</td>\n",
       "    </tr>\n",
       "    <tr>\n",
       "      <th>3</th>\n",
       "      <td>i am just feeling cranky and blue</td>\n",
       "      <td>anger</td>\n",
       "    </tr>\n",
       "    <tr>\n",
       "      <th>4</th>\n",
       "      <td>i can have for a treat or if i am feeling festive</td>\n",
       "      <td>joy</td>\n",
       "    </tr>\n",
       "  </tbody>\n",
       "</table>\n",
       "</div>"
      ],
      "text/plain": [
       "                                                   0        1\n",
       "0  im feeling quite sad and sorry for myself but ...  sadness\n",
       "1  i feel like i am still looking at a blank canv...  sadness\n",
       "2                     i feel like a faithful servant     love\n",
       "3                  i am just feeling cranky and blue    anger\n",
       "4  i can have for a treat or if i am feeling festive      joy"
      ]
     },
     "execution_count": 15,
     "metadata": {},
     "output_type": "execute_result"
    }
   ],
   "source": [
    "val_df.head()"
   ]
  },
  {
   "cell_type": "code",
   "execution_count": 16,
   "metadata": {
    "execution": {
     "iopub.execute_input": "2023-12-10T20:05:46.970303Z",
     "iopub.status.busy": "2023-12-10T20:05:46.969832Z",
     "iopub.status.idle": "2023-12-10T20:05:46.978130Z",
     "shell.execute_reply": "2023-12-10T20:05:46.977201Z",
     "shell.execute_reply.started": "2023-12-10T20:05:46.970276Z"
    }
   },
   "outputs": [],
   "source": [
    "## I am going to rename the columns to 'text' and 'emotion' for clarity\n",
    "\n",
    "train_df.columns = ['text', 'emotion']\n",
    "test_df.columns = ['text', 'emotion']\n",
    "val_df.columns = ['text', 'emotion']"
   ]
  },
  {
   "cell_type": "code",
   "execution_count": 17,
   "metadata": {
    "execution": {
     "iopub.execute_input": "2023-12-10T20:05:46.980373Z",
     "iopub.status.busy": "2023-12-10T20:05:46.980094Z",
     "iopub.status.idle": "2023-12-10T20:05:47.018487Z",
     "shell.execute_reply": "2023-12-10T20:05:47.017672Z",
     "shell.execute_reply.started": "2023-12-10T20:05:46.980349Z"
    }
   },
   "outputs": [
    {
     "name": "stdout",
     "output_type": "stream",
     "text": [
      "The training data characteristics are:\n",
      "                                                     text emotion\n",
      "count                                               16000   16000\n",
      "unique                                              15969       6\n",
      "top     i feel on the verge of tears from weariness i ...     joy\n",
      "freq                                                    2    5362\n",
      "The test data characteristics are:\n",
      "                                                     text emotion\n",
      "count                                                2000    2000\n",
      "unique                                               2000       6\n",
      "top     im feeling rather rotten so im not very ambiti...     joy\n",
      "freq                                                    1     695\n",
      "The validation data characteristics are:\n",
      "                            text emotion\n",
      "count                       2000    2000\n",
      "unique                      1998       6\n",
      "top     i feel so tortured by it     joy\n",
      "freq                           2     704\n"
     ]
    }
   ],
   "source": [
    "## Show data info\n",
    "print(\"The training data characteristics are:\")\n",
    "print(train_df.describe())\n",
    "\n",
    "print(\"The test data characteristics are:\")\n",
    "print(test_df.describe())\n",
    "\n",
    "print(\"The validation data characteristics are:\")\n",
    "print(val_df.describe())"
   ]
  },
  {
   "cell_type": "code",
   "execution_count": 18,
   "metadata": {
    "execution": {
     "iopub.execute_input": "2023-12-10T20:05:47.020153Z",
     "iopub.status.busy": "2023-12-10T20:05:47.019801Z",
     "iopub.status.idle": "2023-12-10T20:05:47.035270Z",
     "shell.execute_reply": "2023-12-10T20:05:47.034541Z",
     "shell.execute_reply.started": "2023-12-10T20:05:47.020122Z"
    }
   },
   "outputs": [],
   "source": [
    "## Everything already appears to be lowercase, which is good\n",
    "\n",
    "## There are repeat values in the training and validation data\n",
    "\n",
    "## Remove duplicates\n",
    "\n",
    "train_df = train_df.drop_duplicates()\n",
    "\n",
    "val_df = val_df.drop_duplicates()"
   ]
  },
  {
   "cell_type": "code",
   "execution_count": 19,
   "metadata": {
    "execution": {
     "iopub.execute_input": "2023-12-10T20:05:47.036465Z",
     "iopub.status.busy": "2023-12-10T20:05:47.036228Z",
     "iopub.status.idle": "2023-12-10T20:05:47.123004Z",
     "shell.execute_reply": "2023-12-10T20:05:47.122215Z",
     "shell.execute_reply.started": "2023-12-10T20:05:47.036444Z"
    }
   },
   "outputs": [
    {
     "name": "stdout",
     "output_type": "stream",
     "text": [
      "                                                     text emotion\n",
      "count                                               15999   15999\n",
      "unique                                              15969       6\n",
      "top     i feel on the verge of tears from weariness i ...     joy\n",
      "freq                                                    2    5361\n",
      "                            text emotion\n",
      "count                       2000    2000\n",
      "unique                      1998       6\n",
      "top     i feel so tortured by it     joy\n",
      "freq                           2     704\n"
     ]
    },
    {
     "data": {
      "text/html": [
       "<div>\n",
       "<style scoped>\n",
       "    .dataframe tbody tr th:only-of-type {\n",
       "        vertical-align: middle;\n",
       "    }\n",
       "\n",
       "    .dataframe tbody tr th {\n",
       "        vertical-align: top;\n",
       "    }\n",
       "\n",
       "    .dataframe thead th {\n",
       "        text-align: right;\n",
       "    }\n",
       "</style>\n",
       "<table border=\"1\" class=\"dataframe\">\n",
       "  <thead>\n",
       "    <tr style=\"text-align: right;\">\n",
       "      <th></th>\n",
       "      <th>text</th>\n",
       "      <th>emotion</th>\n",
       "      <th>entry</th>\n",
       "    </tr>\n",
       "  </thead>\n",
       "  <tbody>\n",
       "    <tr>\n",
       "      <th>3508</th>\n",
       "      <td>i am not amazing or great at photography but i...</td>\n",
       "      <td>joy</td>\n",
       "      <td>1</td>\n",
       "    </tr>\n",
       "    <tr>\n",
       "      <th>8246</th>\n",
       "      <td>i am not amazing or great at photography but i...</td>\n",
       "      <td>love</td>\n",
       "      <td>2</td>\n",
       "    </tr>\n",
       "    <tr>\n",
       "      <th>15705</th>\n",
       "      <td>i began to feel accepted by gaia on her own terms</td>\n",
       "      <td>joy</td>\n",
       "      <td>2</td>\n",
       "    </tr>\n",
       "    <tr>\n",
       "      <th>5277</th>\n",
       "      <td>i began to feel accepted by gaia on her own terms</td>\n",
       "      <td>love</td>\n",
       "      <td>1</td>\n",
       "    </tr>\n",
       "    <tr>\n",
       "      <th>15572</th>\n",
       "      <td>i bet taylor swift basks in the knowledge that...</td>\n",
       "      <td>anger</td>\n",
       "      <td>2</td>\n",
       "    </tr>\n",
       "    <tr>\n",
       "      <th>8804</th>\n",
       "      <td>i bet taylor swift basks in the knowledge that...</td>\n",
       "      <td>fear</td>\n",
       "      <td>1</td>\n",
       "    </tr>\n",
       "    <tr>\n",
       "      <th>11013</th>\n",
       "      <td>i cant escape the tears of sadness and just tr...</td>\n",
       "      <td>love</td>\n",
       "      <td>1</td>\n",
       "    </tr>\n",
       "    <tr>\n",
       "      <th>12892</th>\n",
       "      <td>i cant escape the tears of sadness and just tr...</td>\n",
       "      <td>joy</td>\n",
       "      <td>2</td>\n",
       "    </tr>\n",
       "    <tr>\n",
       "      <th>13653</th>\n",
       "      <td>i could feel myself hit this strange foggy wall</td>\n",
       "      <td>fear</td>\n",
       "      <td>1</td>\n",
       "    </tr>\n",
       "    <tr>\n",
       "      <th>14314</th>\n",
       "      <td>i could feel myself hit this strange foggy wall</td>\n",
       "      <td>surprise</td>\n",
       "      <td>2</td>\n",
       "    </tr>\n",
       "    <tr>\n",
       "      <th>11525</th>\n",
       "      <td>i feel a remembrance of the strange by justin ...</td>\n",
       "      <td>fear</td>\n",
       "      <td>2</td>\n",
       "    </tr>\n",
       "    <tr>\n",
       "      <th>7578</th>\n",
       "      <td>i feel a remembrance of the strange by justin ...</td>\n",
       "      <td>surprise</td>\n",
       "      <td>1</td>\n",
       "    </tr>\n",
       "    <tr>\n",
       "      <th>9786</th>\n",
       "      <td>i feel im being generous with that statement</td>\n",
       "      <td>joy</td>\n",
       "      <td>2</td>\n",
       "    </tr>\n",
       "    <tr>\n",
       "      <th>9071</th>\n",
       "      <td>i feel im being generous with that statement</td>\n",
       "      <td>love</td>\n",
       "      <td>1</td>\n",
       "    </tr>\n",
       "    <tr>\n",
       "      <th>14107</th>\n",
       "      <td>i feel kind of strange</td>\n",
       "      <td>surprise</td>\n",
       "      <td>2</td>\n",
       "    </tr>\n",
       "    <tr>\n",
       "      <th>8557</th>\n",
       "      <td>i feel kind of strange</td>\n",
       "      <td>fear</td>\n",
       "      <td>1</td>\n",
       "    </tr>\n",
       "    <tr>\n",
       "      <th>9605</th>\n",
       "      <td>i feel like a tortured artist when i talk to her</td>\n",
       "      <td>fear</td>\n",
       "      <td>1</td>\n",
       "    </tr>\n",
       "    <tr>\n",
       "      <th>13236</th>\n",
       "      <td>i feel like a tortured artist when i talk to her</td>\n",
       "      <td>anger</td>\n",
       "      <td>2</td>\n",
       "    </tr>\n",
       "    <tr>\n",
       "      <th>7333</th>\n",
       "      <td>i feel like i am very passionate about youtube...</td>\n",
       "      <td>joy</td>\n",
       "      <td>1</td>\n",
       "    </tr>\n",
       "    <tr>\n",
       "      <th>13880</th>\n",
       "      <td>i feel like i am very passionate about youtube...</td>\n",
       "      <td>love</td>\n",
       "      <td>2</td>\n",
       "    </tr>\n",
       "    <tr>\n",
       "      <th>10581</th>\n",
       "      <td>i feel most passionate about</td>\n",
       "      <td>joy</td>\n",
       "      <td>2</td>\n",
       "    </tr>\n",
       "    <tr>\n",
       "      <th>7723</th>\n",
       "      <td>i feel most passionate about</td>\n",
       "      <td>love</td>\n",
       "      <td>1</td>\n",
       "    </tr>\n",
       "    <tr>\n",
       "      <th>1501</th>\n",
       "      <td>i feel on the verge of tears from weariness i ...</td>\n",
       "      <td>love</td>\n",
       "      <td>1</td>\n",
       "    </tr>\n",
       "    <tr>\n",
       "      <th>5067</th>\n",
       "      <td>i feel on the verge of tears from weariness i ...</td>\n",
       "      <td>joy</td>\n",
       "      <td>2</td>\n",
       "    </tr>\n",
       "    <tr>\n",
       "      <th>10117</th>\n",
       "      <td>i feel pretty tortured because i work a job an...</td>\n",
       "      <td>fear</td>\n",
       "      <td>2</td>\n",
       "    </tr>\n",
       "    <tr>\n",
       "      <th>9131</th>\n",
       "      <td>i feel pretty tortured because i work a job an...</td>\n",
       "      <td>anger</td>\n",
       "      <td>1</td>\n",
       "    </tr>\n",
       "    <tr>\n",
       "      <th>5299</th>\n",
       "      <td>i feel pretty weird blogging about deodorant b...</td>\n",
       "      <td>surprise</td>\n",
       "      <td>1</td>\n",
       "    </tr>\n",
       "    <tr>\n",
       "      <th>14634</th>\n",
       "      <td>i feel pretty weird blogging about deodorant b...</td>\n",
       "      <td>fear</td>\n",
       "      <td>2</td>\n",
       "    </tr>\n",
       "    <tr>\n",
       "      <th>12562</th>\n",
       "      <td>i feel so weird about it</td>\n",
       "      <td>surprise</td>\n",
       "      <td>2</td>\n",
       "    </tr>\n",
       "    <tr>\n",
       "      <th>7669</th>\n",
       "      <td>i feel so weird about it</td>\n",
       "      <td>fear</td>\n",
       "      <td>1</td>\n",
       "    </tr>\n",
       "    <tr>\n",
       "      <th>9687</th>\n",
       "      <td>i had to choose the sleek and smoother feel of...</td>\n",
       "      <td>joy</td>\n",
       "      <td>2</td>\n",
       "    </tr>\n",
       "    <tr>\n",
       "      <th>4776</th>\n",
       "      <td>i had to choose the sleek and smoother feel of...</td>\n",
       "      <td>love</td>\n",
       "      <td>1</td>\n",
       "    </tr>\n",
       "    <tr>\n",
       "      <th>11823</th>\n",
       "      <td>i have chose for myself that makes me feel ama...</td>\n",
       "      <td>joy</td>\n",
       "      <td>2</td>\n",
       "    </tr>\n",
       "    <tr>\n",
       "      <th>5400</th>\n",
       "      <td>i have chose for myself that makes me feel ama...</td>\n",
       "      <td>surprise</td>\n",
       "      <td>1</td>\n",
       "    </tr>\n",
       "    <tr>\n",
       "      <th>4602</th>\n",
       "      <td>i often find myself feeling assaulted by a mul...</td>\n",
       "      <td>fear</td>\n",
       "      <td>1</td>\n",
       "    </tr>\n",
       "    <tr>\n",
       "      <th>9769</th>\n",
       "      <td>i often find myself feeling assaulted by a mul...</td>\n",
       "      <td>sadness</td>\n",
       "      <td>2</td>\n",
       "    </tr>\n",
       "    <tr>\n",
       "      <th>5905</th>\n",
       "      <td>i resorted to yesterday the post peak day of i...</td>\n",
       "      <td>anger</td>\n",
       "      <td>1</td>\n",
       "    </tr>\n",
       "    <tr>\n",
       "      <th>14926</th>\n",
       "      <td>i resorted to yesterday the post peak day of i...</td>\n",
       "      <td>fear</td>\n",
       "      <td>2</td>\n",
       "    </tr>\n",
       "    <tr>\n",
       "      <th>2949</th>\n",
       "      <td>i shy away from songs that talk about how i fe...</td>\n",
       "      <td>love</td>\n",
       "      <td>1</td>\n",
       "    </tr>\n",
       "    <tr>\n",
       "      <th>15329</th>\n",
       "      <td>i shy away from songs that talk about how i fe...</td>\n",
       "      <td>joy</td>\n",
       "      <td>2</td>\n",
       "    </tr>\n",
       "    <tr>\n",
       "      <th>6133</th>\n",
       "      <td>i still feel a craving for sweet food</td>\n",
       "      <td>love</td>\n",
       "      <td>2</td>\n",
       "    </tr>\n",
       "    <tr>\n",
       "      <th>4476</th>\n",
       "      <td>i still feel a craving for sweet food</td>\n",
       "      <td>joy</td>\n",
       "      <td>1</td>\n",
       "    </tr>\n",
       "    <tr>\n",
       "      <th>1802</th>\n",
       "      <td>i still feel completely accepted</td>\n",
       "      <td>joy</td>\n",
       "      <td>1</td>\n",
       "    </tr>\n",
       "    <tr>\n",
       "      <th>12441</th>\n",
       "      <td>i still feel completely accepted</td>\n",
       "      <td>love</td>\n",
       "      <td>2</td>\n",
       "    </tr>\n",
       "    <tr>\n",
       "      <th>364</th>\n",
       "      <td>i tend to stop breathing when i m feeling stre...</td>\n",
       "      <td>sadness</td>\n",
       "      <td>1</td>\n",
       "    </tr>\n",
       "    <tr>\n",
       "      <th>6563</th>\n",
       "      <td>i tend to stop breathing when i m feeling stre...</td>\n",
       "      <td>anger</td>\n",
       "      <td>2</td>\n",
       "    </tr>\n",
       "    <tr>\n",
       "      <th>7623</th>\n",
       "      <td>i was intensely conscious of how much cash i h...</td>\n",
       "      <td>sadness</td>\n",
       "      <td>2</td>\n",
       "    </tr>\n",
       "    <tr>\n",
       "      <th>1625</th>\n",
       "      <td>i was intensely conscious of how much cash i h...</td>\n",
       "      <td>anger</td>\n",
       "      <td>1</td>\n",
       "    </tr>\n",
       "    <tr>\n",
       "      <th>10327</th>\n",
       "      <td>i was sitting in the corner stewing in my own ...</td>\n",
       "      <td>sadness</td>\n",
       "      <td>1</td>\n",
       "    </tr>\n",
       "    <tr>\n",
       "      <th>15876</th>\n",
       "      <td>i was sitting in the corner stewing in my own ...</td>\n",
       "      <td>anger</td>\n",
       "      <td>2</td>\n",
       "    </tr>\n",
       "    <tr>\n",
       "      <th>11273</th>\n",
       "      <td>i was so stubborn and that it took you getting...</td>\n",
       "      <td>joy</td>\n",
       "      <td>2</td>\n",
       "    </tr>\n",
       "    <tr>\n",
       "      <th>7582</th>\n",
       "      <td>i was so stubborn and that it took you getting...</td>\n",
       "      <td>love</td>\n",
       "      <td>1</td>\n",
       "    </tr>\n",
       "    <tr>\n",
       "      <th>10344</th>\n",
       "      <td>i will feel as though i am accepted by as well...</td>\n",
       "      <td>love</td>\n",
       "      <td>1</td>\n",
       "    </tr>\n",
       "    <tr>\n",
       "      <th>15315</th>\n",
       "      <td>i will feel as though i am accepted by as well...</td>\n",
       "      <td>joy</td>\n",
       "      <td>2</td>\n",
       "    </tr>\n",
       "    <tr>\n",
       "      <th>8775</th>\n",
       "      <td>i write these words i feel sweet baby kicks fr...</td>\n",
       "      <td>joy</td>\n",
       "      <td>1</td>\n",
       "    </tr>\n",
       "    <tr>\n",
       "      <th>11354</th>\n",
       "      <td>i write these words i feel sweet baby kicks fr...</td>\n",
       "      <td>love</td>\n",
       "      <td>2</td>\n",
       "    </tr>\n",
       "    <tr>\n",
       "      <th>7685</th>\n",
       "      <td>im still not sure why reilly feels the need to...</td>\n",
       "      <td>surprise</td>\n",
       "      <td>2</td>\n",
       "    </tr>\n",
       "    <tr>\n",
       "      <th>2908</th>\n",
       "      <td>im still not sure why reilly feels the need to...</td>\n",
       "      <td>fear</td>\n",
       "      <td>1</td>\n",
       "    </tr>\n",
       "    <tr>\n",
       "      <th>9596</th>\n",
       "      <td>ive also made it with both sugar measurements ...</td>\n",
       "      <td>joy</td>\n",
       "      <td>2</td>\n",
       "    </tr>\n",
       "    <tr>\n",
       "      <th>9069</th>\n",
       "      <td>ive also made it with both sugar measurements ...</td>\n",
       "      <td>love</td>\n",
       "      <td>1</td>\n",
       "    </tr>\n",
       "  </tbody>\n",
       "</table>\n",
       "</div>"
      ],
      "text/plain": [
       "                                                    text   emotion  entry\n",
       "3508   i am not amazing or great at photography but i...       joy      1\n",
       "8246   i am not amazing or great at photography but i...      love      2\n",
       "15705  i began to feel accepted by gaia on her own terms       joy      2\n",
       "5277   i began to feel accepted by gaia on her own terms      love      1\n",
       "15572  i bet taylor swift basks in the knowledge that...     anger      2\n",
       "8804   i bet taylor swift basks in the knowledge that...      fear      1\n",
       "11013  i cant escape the tears of sadness and just tr...      love      1\n",
       "12892  i cant escape the tears of sadness and just tr...       joy      2\n",
       "13653    i could feel myself hit this strange foggy wall      fear      1\n",
       "14314    i could feel myself hit this strange foggy wall  surprise      2\n",
       "11525  i feel a remembrance of the strange by justin ...      fear      2\n",
       "7578   i feel a remembrance of the strange by justin ...  surprise      1\n",
       "9786        i feel im being generous with that statement       joy      2\n",
       "9071        i feel im being generous with that statement      love      1\n",
       "14107                             i feel kind of strange  surprise      2\n",
       "8557                              i feel kind of strange      fear      1\n",
       "9605    i feel like a tortured artist when i talk to her      fear      1\n",
       "13236   i feel like a tortured artist when i talk to her     anger      2\n",
       "7333   i feel like i am very passionate about youtube...       joy      1\n",
       "13880  i feel like i am very passionate about youtube...      love      2\n",
       "10581                       i feel most passionate about       joy      2\n",
       "7723                        i feel most passionate about      love      1\n",
       "1501   i feel on the verge of tears from weariness i ...      love      1\n",
       "5067   i feel on the verge of tears from weariness i ...       joy      2\n",
       "10117  i feel pretty tortured because i work a job an...      fear      2\n",
       "9131   i feel pretty tortured because i work a job an...     anger      1\n",
       "5299   i feel pretty weird blogging about deodorant b...  surprise      1\n",
       "14634  i feel pretty weird blogging about deodorant b...      fear      2\n",
       "12562                           i feel so weird about it  surprise      2\n",
       "7669                            i feel so weird about it      fear      1\n",
       "9687   i had to choose the sleek and smoother feel of...       joy      2\n",
       "4776   i had to choose the sleek and smoother feel of...      love      1\n",
       "11823  i have chose for myself that makes me feel ama...       joy      2\n",
       "5400   i have chose for myself that makes me feel ama...  surprise      1\n",
       "4602   i often find myself feeling assaulted by a mul...      fear      1\n",
       "9769   i often find myself feeling assaulted by a mul...   sadness      2\n",
       "5905   i resorted to yesterday the post peak day of i...     anger      1\n",
       "14926  i resorted to yesterday the post peak day of i...      fear      2\n",
       "2949   i shy away from songs that talk about how i fe...      love      1\n",
       "15329  i shy away from songs that talk about how i fe...       joy      2\n",
       "6133               i still feel a craving for sweet food      love      2\n",
       "4476               i still feel a craving for sweet food       joy      1\n",
       "1802                    i still feel completely accepted       joy      1\n",
       "12441                   i still feel completely accepted      love      2\n",
       "364    i tend to stop breathing when i m feeling stre...   sadness      1\n",
       "6563   i tend to stop breathing when i m feeling stre...     anger      2\n",
       "7623   i was intensely conscious of how much cash i h...   sadness      2\n",
       "1625   i was intensely conscious of how much cash i h...     anger      1\n",
       "10327  i was sitting in the corner stewing in my own ...   sadness      1\n",
       "15876  i was sitting in the corner stewing in my own ...     anger      2\n",
       "11273  i was so stubborn and that it took you getting...       joy      2\n",
       "7582   i was so stubborn and that it took you getting...      love      1\n",
       "10344  i will feel as though i am accepted by as well...      love      1\n",
       "15315  i will feel as though i am accepted by as well...       joy      2\n",
       "8775   i write these words i feel sweet baby kicks fr...       joy      1\n",
       "11354  i write these words i feel sweet baby kicks fr...      love      2\n",
       "7685   im still not sure why reilly feels the need to...  surprise      2\n",
       "2908   im still not sure why reilly feels the need to...      fear      1\n",
       "9596   ive also made it with both sugar measurements ...       joy      2\n",
       "9069   ive also made it with both sugar measurements ...      love      1"
      ]
     },
     "execution_count": 19,
     "metadata": {},
     "output_type": "execute_result"
    }
   ],
   "source": [
    "## Check updated dfs\n",
    "\n",
    "print(train_df.describe())\n",
    "\n",
    "print(val_df.describe())\n",
    "\n",
    "## I see - looks like some of the entries have more than one emotion assigned\n",
    "\n",
    "## Figure out training entries with more than one class\n",
    "\n",
    "train_df['entry'] = train_df.groupby('text').cumcount() + 1\n",
    "train_df[train_df.groupby('text')['entry'].transform('max') > 1].sort_values(by='text')"
   ]
  },
  {
   "cell_type": "markdown",
   "metadata": {},
   "source": [
    "Because there are multiple emotional classes assigned to these text snippets, I am going to remove them from the dataset, as they are likely to confuse the classification model."
   ]
  },
  {
   "cell_type": "code",
   "execution_count": 20,
   "metadata": {
    "execution": {
     "iopub.execute_input": "2023-12-10T20:05:47.124199Z",
     "iopub.status.busy": "2023-12-10T20:05:47.123973Z",
     "iopub.status.idle": "2023-12-10T20:05:47.181248Z",
     "shell.execute_reply": "2023-12-10T20:05:47.180579Z",
     "shell.execute_reply.started": "2023-12-10T20:05:47.124178Z"
    }
   },
   "outputs": [],
   "source": [
    "# Number unique entries for a particular text value\n",
    "train_df['entry'] = train_df.groupby('text').cumcount() + 1\n",
    "\n",
    "# Filter to maximum entry = 1\n",
    "train_unique = train_df[train_df.groupby('text')['entry'].transform('max') == 1]\n",
    "\n",
    "# Get rid of entry column now\n",
    "train_unique = train_unique[['text','emotion']]"
   ]
  },
  {
   "cell_type": "code",
   "execution_count": 21,
   "metadata": {
    "execution": {
     "iopub.execute_input": "2023-12-10T20:05:47.182549Z",
     "iopub.status.busy": "2023-12-10T20:05:47.182233Z",
     "iopub.status.idle": "2023-12-10T20:05:47.211697Z",
     "shell.execute_reply": "2023-12-10T20:05:47.211021Z",
     "shell.execute_reply.started": "2023-12-10T20:05:47.182517Z"
    }
   },
   "outputs": [
    {
     "name": "stdout",
     "output_type": "stream",
     "text": [
      "                           text emotion\n",
      "count                     15939   15939\n",
      "unique                    15939       6\n",
      "top     i didnt feel humiliated     joy\n",
      "freq                          1    5345\n"
     ]
    }
   ],
   "source": [
    "print(train_unique.describe()) ## looks great! \n",
    "\n",
    "## Now do same to val data\n",
    "\n",
    "# Number unique entries for a particular text value\n",
    "val_df['entry'] = val_df.groupby('text').cumcount() + 1\n",
    "\n",
    "# Filter to maximum entry = 1\n",
    "val_unique = val_df[val_df.groupby('text')['entry'].transform('max') == 1]\n",
    "\n",
    "# Get rid of entry column now\n",
    "val_unique = val_unique[['text','emotion']]"
   ]
  },
  {
   "cell_type": "markdown",
   "metadata": {},
   "source": [
    "Now that each entry has only one class assigned, I am going to review a histogram of the emotion counts in each dataset."
   ]
  },
  {
   "cell_type": "code",
   "execution_count": 22,
   "metadata": {
    "execution": {
     "iopub.execute_input": "2023-12-10T20:05:47.213219Z",
     "iopub.status.busy": "2023-12-10T20:05:47.212892Z",
     "iopub.status.idle": "2023-12-10T20:05:47.882509Z",
     "shell.execute_reply": "2023-12-10T20:05:47.881618Z",
     "shell.execute_reply.started": "2023-12-10T20:05:47.213189Z"
    }
   },
   "outputs": [
    {
     "name": "stderr",
     "output_type": "stream",
     "text": [
      "/opt/conda/lib/python3.10/site-packages/seaborn/_oldcore.py:1498: FutureWarning: is_categorical_dtype is deprecated and will be removed in a future version. Use isinstance(dtype, CategoricalDtype) instead\n",
      "  if pd.api.types.is_categorical_dtype(vector):\n",
      "/opt/conda/lib/python3.10/site-packages/seaborn/_oldcore.py:1498: FutureWarning: is_categorical_dtype is deprecated and will be removed in a future version. Use isinstance(dtype, CategoricalDtype) instead\n",
      "  if pd.api.types.is_categorical_dtype(vector):\n",
      "/opt/conda/lib/python3.10/site-packages/seaborn/_oldcore.py:1119: FutureWarning: use_inf_as_na option is deprecated and will be removed in a future version. Convert inf values to NaN before operating instead.\n",
      "  with pd.option_context('mode.use_inf_as_na', True):\n",
      "/opt/conda/lib/python3.10/site-packages/seaborn/_oldcore.py:1498: FutureWarning: is_categorical_dtype is deprecated and will be removed in a future version. Use isinstance(dtype, CategoricalDtype) instead\n",
      "  if pd.api.types.is_categorical_dtype(vector):\n",
      "/opt/conda/lib/python3.10/site-packages/seaborn/_oldcore.py:1498: FutureWarning: is_categorical_dtype is deprecated and will be removed in a future version. Use isinstance(dtype, CategoricalDtype) instead\n",
      "  if pd.api.types.is_categorical_dtype(vector):\n",
      "/opt/conda/lib/python3.10/site-packages/seaborn/_oldcore.py:1119: FutureWarning: use_inf_as_na option is deprecated and will be removed in a future version. Convert inf values to NaN before operating instead.\n",
      "  with pd.option_context('mode.use_inf_as_na', True):\n",
      "/opt/conda/lib/python3.10/site-packages/seaborn/_oldcore.py:1498: FutureWarning: is_categorical_dtype is deprecated and will be removed in a future version. Use isinstance(dtype, CategoricalDtype) instead\n",
      "  if pd.api.types.is_categorical_dtype(vector):\n",
      "/opt/conda/lib/python3.10/site-packages/seaborn/_oldcore.py:1498: FutureWarning: is_categorical_dtype is deprecated and will be removed in a future version. Use isinstance(dtype, CategoricalDtype) instead\n",
      "  if pd.api.types.is_categorical_dtype(vector):\n",
      "/opt/conda/lib/python3.10/site-packages/seaborn/_oldcore.py:1119: FutureWarning: use_inf_as_na option is deprecated and will be removed in a future version. Convert inf values to NaN before operating instead.\n",
      "  with pd.option_context('mode.use_inf_as_na', True):\n"
     ]
    },
    {
     "data": {
      "text/plain": [
       "Text(0.5, 1.0, 'Test')"
      ]
     },
     "execution_count": 22,
     "metadata": {},
     "output_type": "execute_result"
    },
    {
     "data": {
      "image/png": "[encoded data removed]",
      "text/plain": [
       "<Figure size 1500x500 with 3 Axes>"
      ]
     },
     "metadata": {},
     "output_type": "display_data"
    }
   ],
   "source": [
    "fig, axes = plt.subplots(1, 3, figsize=(15, 5), sharey=True, sharex = True)\n",
    "fig.suptitle('Proportion of Text Entries by Emotion')\n",
    "\n",
    "# Train\n",
    "sns.histplot(ax=axes[0], x=train_unique['emotion'], color = \"blue\", stat = \"proportion\")\n",
    "axes[0].set_title('Training')\n",
    "\n",
    "# Val\n",
    "sns.histplot(ax=axes[1], x=val_unique['emotion'], color = \"green\", stat = \"proportion\")\n",
    "axes[1].set_title('Validation')\n",
    "\n",
    "# Test\n",
    "sns.histplot(ax=axes[2], x=test_df['emotion'], color = \"purple\", stat = \"proportion\")\n",
    "axes[2].set_title('Test')\n"
   ]
  },
  {
   "cell_type": "code",
   "execution_count": 23,
   "metadata": {
    "execution": {
     "iopub.execute_input": "2023-12-10T20:05:47.886424Z",
     "iopub.status.busy": "2023-12-10T20:05:47.886126Z",
     "iopub.status.idle": "2023-12-10T20:05:48.352278Z",
     "shell.execute_reply": "2023-12-10T20:05:48.351350Z",
     "shell.execute_reply.started": "2023-12-10T20:05:47.886399Z"
    }
   },
   "outputs": [
    {
     "data": {
      "text/plain": [
       "Text(0, 0.5, 'Count')"
      ]
     },
     "execution_count": 23,
     "metadata": {},
     "output_type": "execute_result"
    },
    {
     "data": {
      "image/png": "[encoded data removed]",
      "text/plain": [
       "<Figure size 640x480 with 1 Axes>"
      ]
     },
     "metadata": {},
     "output_type": "display_data"
    }
   ],
   "source": [
    "## How long is each text?\n",
    "\n",
    "text_lengths = []\n",
    "\n",
    "for txt in train_unique['text']:\n",
    "    ## Split each string on whitespace\n",
    "    text_words = txt.split()\n",
    "    text_lengths.append(len(text_words))\n",
    "    \n",
    "    \n",
    "plt.hist(text_lengths)\n",
    "plt.title('Histogram of Words per Text Entry')\n",
    "plt.xlabel('Word Count')\n",
    "plt.ylabel('Count')"
   ]
  },
  {
   "cell_type": "code",
   "execution_count": 24,
   "metadata": {
    "execution": {
     "iopub.execute_input": "2023-12-10T20:05:48.354011Z",
     "iopub.status.busy": "2023-12-10T20:05:48.353590Z",
     "iopub.status.idle": "2023-12-10T20:05:48.363527Z",
     "shell.execute_reply": "2023-12-10T20:05:48.362458Z",
     "shell.execute_reply.started": "2023-12-10T20:05:48.353973Z"
    }
   },
   "outputs": [
    {
     "name": "stdout",
     "output_type": "stream",
     "text": [
      "19.176673567977915\n",
      "17.0\n"
     ]
    }
   ],
   "source": [
    "print(np.mean(text_lengths))\n",
    "print(np.median(text_lengths))"
   ]
  },
  {
   "cell_type": "markdown",
   "metadata": {},
   "source": [
    "Each of the texts is not overly long, with a mean length of 19 words, and a median length of 17 words."
   ]
  },
  {
   "cell_type": "markdown",
   "metadata": {},
   "source": [
    "Based on the 3-panel histogram of counts by emotion, it is very good to see that each of the datasets (training, test, and validation) all have roughly the same proportions of each emotion. However, each dataset is unbalanced across the different classes, with joy first at ~35%, and surprise last at <5%.\n",
    "\n",
    "Becuase all three datasets have roughly equal proportions, I will first try training the model as-is, then compare the results with an oversampled training set. SMOTE (Synthetic Minority Over-sampling Technique) is an oversampling technique that artificially adds non-majority examples to the set, such that the class proportions become balanced.\n",
    "\n",
    "Before training the model, first the text entries need to be converted to a numeric representation. I will use the Keras library built-in TextVectorization layer, which includes the 'int' output type. This method works as follows *(from Keras documentation)*: \n",
    "\n",
    "- Standardize each example (usually lowercasing + punctuation stripping)\n",
    "- Split each example into substrings (usually words)\n",
    "- Recombine substrings into tokens (usually ngrams)\n",
    "- Index tokens (associate a unique int value with each token)\n",
    "- Transform each example using this index into a vector of integers.\n",
    "\n",
    "The class labels also need to be encoded into a numeric representation for the model to work."
   ]
  },
  {
   "cell_type": "code",
   "execution_count": 52,
   "metadata": {
    "execution": {
     "iopub.execute_input": "2023-12-10T20:13:41.872490Z",
     "iopub.status.busy": "2023-12-10T20:13:41.871766Z",
     "iopub.status.idle": "2023-12-10T20:13:41.886628Z",
     "shell.execute_reply": "2023-12-10T20:13:41.885625Z",
     "shell.execute_reply.started": "2023-12-10T20:13:41.872453Z"
    }
   },
   "outputs": [
    {
     "name": "stderr",
     "output_type": "stream",
     "text": [
      "/opt/conda/lib/python3.10/site-packages/sklearn/utils/validation.py:605: FutureWarning: is_sparse is deprecated and will be removed in a future version. Check `isinstance(dtype, pd.SparseDtype)` instead.\n",
      "  if is_sparse(pd_dtype):\n",
      "/opt/conda/lib/python3.10/site-packages/sklearn/utils/validation.py:614: FutureWarning: is_sparse is deprecated and will be removed in a future version. Check `isinstance(dtype, pd.SparseDtype)` instead.\n",
      "  if is_sparse(pd_dtype) or not is_extension_array_dtype(pd_dtype):\n",
      "/opt/conda/lib/python3.10/site-packages/sklearn/utils/validation.py:605: FutureWarning: is_sparse is deprecated and will be removed in a future version. Check `isinstance(dtype, pd.SparseDtype)` instead.\n",
      "  if is_sparse(pd_dtype):\n",
      "/opt/conda/lib/python3.10/site-packages/sklearn/utils/validation.py:614: FutureWarning: is_sparse is deprecated and will be removed in a future version. Check `isinstance(dtype, pd.SparseDtype)` instead.\n",
      "  if is_sparse(pd_dtype) or not is_extension_array_dtype(pd_dtype):\n",
      "/opt/conda/lib/python3.10/site-packages/sklearn/utils/validation.py:605: FutureWarning: is_sparse is deprecated and will be removed in a future version. Check `isinstance(dtype, pd.SparseDtype)` instead.\n",
      "  if is_sparse(pd_dtype):\n",
      "/opt/conda/lib/python3.10/site-packages/sklearn/utils/validation.py:614: FutureWarning: is_sparse is deprecated and will be removed in a future version. Check `isinstance(dtype, pd.SparseDtype)` instead.\n",
      "  if is_sparse(pd_dtype) or not is_extension_array_dtype(pd_dtype):\n"
     ]
    },
    {
     "data": {
      "text/plain": [
       "array(['anger', 'fear', 'joy', 'love', 'sadness', 'surprise'],\n",
       "      dtype=object)"
      ]
     },
     "execution_count": 52,
     "metadata": {},
     "output_type": "execute_result"
    }
   ],
   "source": [
    "## Encode all labels\n",
    "\n",
    "encoder = LabelEncoder()\n",
    "\n",
    "train_labels = encoder.fit_transform(train_unique['emotion'])\n",
    "val_labels = encoder.transform(val_unique['emotion'])\n",
    "test_labels = encoder.transform(test_df['emotion'])\n",
    "\n",
    "encoder.classes_"
   ]
  },
  {
   "cell_type": "code",
   "execution_count": 53,
   "metadata": {
    "execution": {
     "iopub.execute_input": "2023-12-10T20:13:44.302470Z",
     "iopub.status.busy": "2023-12-10T20:13:44.301789Z",
     "iopub.status.idle": "2023-12-10T20:13:44.395827Z",
     "shell.execute_reply": "2023-12-10T20:13:44.394926Z",
     "shell.execute_reply.started": "2023-12-10T20:13:44.302434Z"
    }
   },
   "outputs": [
    {
     "name": "stdout",
     "output_type": "stream",
     "text": [
      "15212\n"
     ]
    }
   ],
   "source": [
    "## Figure out vocab size:\n",
    "\n",
    "# Source: https://stackoverflow.com/a/18937309/7636462\n",
    "vocabulary = set()\n",
    "train_df[\"text\"].str.lower().str.split().apply(vocabulary.update)\n",
    "vocabulary_size = len(vocabulary)\n",
    "print(vocabulary_size)"
   ]
  },
  {
   "cell_type": "markdown",
   "metadata": {},
   "source": [
    "There are 15,212 unique words in the training dataset. This is larger than I would have guessed given that each entry has 20 words on average."
   ]
  },
  {
   "cell_type": "code",
   "execution_count": 54,
   "metadata": {
    "execution": {
     "iopub.execute_input": "2023-12-10T20:13:46.174098Z",
     "iopub.status.busy": "2023-12-10T20:13:46.173258Z",
     "iopub.status.idle": "2023-12-10T20:13:46.184605Z",
     "shell.execute_reply": "2023-12-10T20:13:46.183609Z",
     "shell.execute_reply.started": "2023-12-10T20:13:46.174063Z"
    }
   },
   "outputs": [],
   "source": [
    "## Text Vectorization\n",
    "\n",
    "## use keras text vectorization layer\n",
    "\n",
    "vectorizer = keras.layers.TextVectorization(standardize = 'lower_and_strip_punctuation',\n",
    "                                             split='whitespace',\n",
    "                                            output_mode = 'int',\n",
    "                                            output_sequence_length = 50,\n",
    "                                           ngrams = 2)"
   ]
  },
  {
   "cell_type": "code",
   "execution_count": 55,
   "metadata": {
    "execution": {
     "iopub.execute_input": "2023-12-10T20:13:47.591026Z",
     "iopub.status.busy": "2023-12-10T20:13:47.590677Z",
     "iopub.status.idle": "2023-12-10T20:13:49.459693Z",
     "shell.execute_reply": "2023-12-10T20:13:49.458787Z",
     "shell.execute_reply.started": "2023-12-10T20:13:47.591000Z"
    }
   },
   "outputs": [],
   "source": [
    "# Train vectorizer\n",
    "vectorizer.adapt(train_unique['text'])\n",
    "\n",
    "## Vectorize data\n",
    "\n",
    "train_vec = vectorizer(train_unique['text'])\n",
    "\n",
    "val_vec = vectorizer(val_unique['text'])\n",
    "\n",
    "test_vec = vectorizer(test_df['text'])"
   ]
  },
  {
   "cell_type": "code",
   "execution_count": 56,
   "metadata": {
    "execution": {
     "iopub.execute_input": "2023-12-10T20:13:52.142692Z",
     "iopub.status.busy": "2023-12-10T20:13:52.141598Z",
     "iopub.status.idle": "2023-12-10T20:13:52.147685Z",
     "shell.execute_reply": "2023-12-10T20:13:52.146780Z",
     "shell.execute_reply.started": "2023-12-10T20:13:52.142646Z"
    }
   },
   "outputs": [
    {
     "name": "stdout",
     "output_type": "stream",
     "text": [
      "(15939, 50) (1996, 50) (2000, 50)\n"
     ]
    }
   ],
   "source": [
    "print(train_vec.shape, val_vec.shape, test_vec.shape)"
   ]
  },
  {
   "cell_type": "code",
   "execution_count": 57,
   "metadata": {
    "execution": {
     "iopub.execute_input": "2023-12-10T20:13:54.259340Z",
     "iopub.status.busy": "2023-12-10T20:13:54.258965Z",
     "iopub.status.idle": "2023-12-10T20:13:54.265891Z",
     "shell.execute_reply": "2023-12-10T20:13:54.264879Z",
     "shell.execute_reply.started": "2023-12-10T20:13:54.259308Z"
    }
   },
   "outputs": [
    {
     "data": {
      "text/plain": [
       "122473"
      ]
     },
     "execution_count": 57,
     "metadata": {},
     "output_type": "execute_result"
    }
   ],
   "source": [
    "vectorizer.vocabulary_size()"
   ]
  },
  {
   "cell_type": "code",
   "execution_count": 58,
   "metadata": {
    "execution": {
     "iopub.execute_input": "2023-12-10T20:13:55.744732Z",
     "iopub.status.busy": "2023-12-10T20:13:55.744352Z",
     "iopub.status.idle": "2023-12-10T20:13:56.581120Z",
     "shell.execute_reply": "2023-12-10T20:13:56.579654Z",
     "shell.execute_reply.started": "2023-12-10T20:13:55.744702Z"
    }
   },
   "outputs": [],
   "source": [
    "## Apply SMOTE on training data, to use later\n",
    "\n",
    "oversample = SMOTE()\n",
    "\n",
    "train_over, train_lab_over = oversample.fit_resample(train_vec, train_labels)"
   ]
  },
  {
   "cell_type": "code",
   "execution_count": 59,
   "metadata": {
    "execution": {
     "iopub.execute_input": "2023-12-10T20:13:58.714541Z",
     "iopub.status.busy": "2023-12-10T20:13:58.713332Z",
     "iopub.status.idle": "2023-12-10T20:13:58.719464Z",
     "shell.execute_reply": "2023-12-10T20:13:58.718581Z",
     "shell.execute_reply.started": "2023-12-10T20:13:58.714507Z"
    }
   },
   "outputs": [
    {
     "data": {
      "text/plain": [
       "(32070, 50)"
      ]
     },
     "execution_count": 59,
     "metadata": {},
     "output_type": "execute_result"
    }
   ],
   "source": [
    "train_over.shape\n",
    "\n",
    "## The training data went from length 15,939 to 32,070 (or plus 16,131)"
   ]
  },
  {
   "cell_type": "markdown",
   "metadata": {},
   "source": [
    "### Model Building and Training\n",
    "\n",
    "I am going to use a Recurrent Neural Network to classify the text data into one of 6 emotions. RNN takes into account the history of the sequence, rather than analyzing each word by itself, so it should be better at performing emotional classification, where nearby words and context is quite important.\n",
    "\n",
    "I am using a sequential model that alternates Long-Short Term Memory (LSTM) cells with Gated Recurrent Unit (GRU) cells, with dropout layers in between. The model decreases the number of recurrent units as the layers increase with the idea that the features are being fine tuned through the layers. After the final LSTM, I added a 10 unit dense layer to match the 10 unit LSTM, followed by an activity regularization layer to help with cost updates from the imbalanced data. Finally, the output layer is a 6-neuron dense layer with softmax activation to output the probability of each entry being assigned to one of 6 emotions."
   ]
  },
  {
   "cell_type": "code",
   "execution_count": 60,
   "metadata": {
    "execution": {
     "iopub.execute_input": "2023-12-10T20:14:00.962638Z",
     "iopub.status.busy": "2023-12-10T20:14:00.961689Z",
     "iopub.status.idle": "2023-12-10T20:14:01.027531Z",
     "shell.execute_reply": "2023-12-10T20:14:01.026431Z",
     "shell.execute_reply.started": "2023-12-10T20:14:00.962595Z"
    }
   },
   "outputs": [],
   "source": [
    "## Set random seed for repeatability\n",
    "\n",
    "keras.utils.set_random_seed(812)"
   ]
  },
  {
   "cell_type": "code",
   "execution_count": 61,
   "metadata": {
    "execution": {
     "iopub.execute_input": "2023-12-10T20:14:04.646047Z",
     "iopub.status.busy": "2023-12-10T20:14:04.645678Z",
     "iopub.status.idle": "2023-12-10T20:14:05.485367Z",
     "shell.execute_reply": "2023-12-10T20:14:05.484468Z",
     "shell.execute_reply.started": "2023-12-10T20:14:04.646017Z"
    }
   },
   "outputs": [
    {
     "name": "stdout",
     "output_type": "stream",
     "text": [
      "Model: \"sequential_3\"\n",
      "_________________________________________________________________\n",
      " Layer (type)                Output Shape              Param #   \n",
      "=================================================================\n",
      " embedding_3 (Embedding)     (None, 50, 100)           12247300  \n",
      "                                                                 \n",
      " lstm_7 (LSTM)               (None, 50, 50)            30200     \n",
      "                                                                 \n",
      " dropout_6 (Dropout)         (None, 50, 50)            0         \n",
      "                                                                 \n",
      " gru_2 (GRU)                 (None, 50, 25)            5775      \n",
      "                                                                 \n",
      " dropout_7 (Dropout)         (None, 50, 25)            0         \n",
      "                                                                 \n",
      " lstm_8 (LSTM)               (None, 10)                1440      \n",
      "                                                                 \n",
      " dense_6 (Dense)             (None, 10)                110       \n",
      "                                                                 \n",
      " activity_regularization_3   (None, 10)                0         \n",
      " (ActivityRegularization)                                        \n",
      "                                                                 \n",
      " dense_7 (Dense)             (None, 6)                 66        \n",
      "                                                                 \n",
      "=================================================================\n",
      "Total params: 12284891 (46.86 MB)\n",
      "Trainable params: 12284891 (46.86 MB)\n",
      "Non-trainable params: 0 (0.00 Byte)\n",
      "_________________________________________________________________\n"
     ]
    }
   ],
   "source": [
    "## Build an RNN model\n",
    "\n",
    "batch_size = 100\n",
    "vocab_size = vectorizer.vocabulary_size()\n",
    "seq_len = train_vec.shape[1]\n",
    "\n",
    "model = keras.Sequential()\n",
    "\n",
    "# Embed vectorized text into a dense vector, scaling down by 10x\n",
    "model.add(keras.layers.Embedding(input_dim = vocab_size,  # size of dictionary\n",
    "                                output_dim = 100,\n",
    "                                input_length = seq_len))   # length of vec sample\n",
    "\n",
    "# LSTM layer with 100 units\n",
    "model.add(keras.layers.LSTM(50, return_sequences = True, input_shape = (batch_size, vocab_size, 100)))\n",
    "\n",
    "model.add(keras.layers.Dropout(0.2))\n",
    "\n",
    "# GRU layer with 50 units\n",
    "model.add(keras.layers.GRU(units = 25, \n",
    "                          return_sequences = True))\n",
    "\n",
    "model.add(keras.layers.Dropout(0.2))\n",
    "\n",
    "# GRU layer with 10 units\n",
    "model.add(keras.layers.LSTM(units = 10))\n",
    "\n",
    "model.add(keras.layers.Dense(10, activation = 'tanh'))\n",
    "\n",
    "model.add(keras.layers.ActivityRegularization(l1=0.1, l2=0.2))\n",
    "\n",
    "# Dense layer with 6 nodes (for each classification)\n",
    "# Softmax activation for multiclass problem\n",
    "model.add(keras.layers.Dense(6, activation = 'softmax'))\n",
    "\n",
    "model.summary()"
   ]
  },
  {
   "cell_type": "code",
   "execution_count": 62,
   "metadata": {
    "execution": {
     "iopub.execute_input": "2023-12-10T20:14:10.617740Z",
     "iopub.status.busy": "2023-12-10T20:14:10.617053Z",
     "iopub.status.idle": "2023-12-10T20:14:10.787688Z",
     "shell.execute_reply": "2023-12-10T20:14:10.786682Z",
     "shell.execute_reply.started": "2023-12-10T20:14:10.617704Z"
    }
   },
   "outputs": [],
   "source": [
    "## Compile and train\n",
    "\n",
    "model.compile(optimizer = 'rmsprop',\n",
    "              loss = keras.losses.SparseCategoricalCrossentropy(),\n",
    "             metrics = ['accuracy'])\n",
    "\n",
    "# Save weights so that I can re-run model with different tuning and compare apples-to-apples\n",
    "model.save_weights('/kaggle/working/weights1.h5')"
   ]
  },
  {
   "cell_type": "code",
   "execution_count": 63,
   "metadata": {
    "execution": {
     "iopub.execute_input": "2023-12-10T20:14:13.228993Z",
     "iopub.status.busy": "2023-12-10T20:14:13.228033Z",
     "iopub.status.idle": "2023-12-10T20:14:59.301430Z",
     "shell.execute_reply": "2023-12-10T20:14:59.300607Z",
     "shell.execute_reply.started": "2023-12-10T20:14:13.228951Z"
    }
   },
   "outputs": [
    {
     "name": "stdout",
     "output_type": "stream",
     "text": [
      "Epoch 1/5\n",
      "160/160 [==============================] - 21s 100ms/step - loss: 1.7461 - accuracy: 0.3260 - val_loss: 1.7089 - val_accuracy: 0.3106\n",
      "Epoch 2/5\n",
      "160/160 [==============================] - 9s 54ms/step - loss: 1.6780 - accuracy: 0.3325 - val_loss: 1.6567 - val_accuracy: 0.3522\n",
      "Epoch 3/5\n",
      "160/160 [==============================] - 7s 45ms/step - loss: 1.6380 - accuracy: 0.3353 - val_loss: 1.6272 - val_accuracy: 0.3522\n",
      "Epoch 4/5\n",
      "160/160 [==============================] - 4s 26ms/step - loss: 1.6122 - accuracy: 0.3353 - val_loss: 1.6118 - val_accuracy: 0.3522\n",
      "Epoch 5/5\n",
      "160/160 [==============================] - 5s 29ms/step - loss: 1.5938 - accuracy: 0.3353 - val_loss: 1.6265 - val_accuracy: 0.3522\n"
     ]
    }
   ],
   "source": [
    "# Load in untouched weights\n",
    "model.load_weights('/kaggle/working/weights1.h5')\n",
    "\n",
    "hist1 = model.fit(x = train_vec,\n",
    "         y = train_labels,\n",
    "          batch_size = batch_size,\n",
    "         validation_data = (val_vec, val_labels),\n",
    "         epochs = 5)"
   ]
  },
  {
   "cell_type": "markdown",
   "metadata": {},
   "source": [
    "It looks like the model is currently hovering around the maximum class proportion in the training and validation sets for the resulting accuracy. Let's try training more epochs to see what we get."
   ]
  },
  {
   "cell_type": "code",
   "execution_count": 64,
   "metadata": {
    "execution": {
     "iopub.execute_input": "2023-12-10T20:15:04.549860Z",
     "iopub.status.busy": "2023-12-10T20:15:04.548920Z",
     "iopub.status.idle": "2023-12-10T20:15:42.465521Z",
     "shell.execute_reply": "2023-12-10T20:15:42.464531Z",
     "shell.execute_reply.started": "2023-12-10T20:15:04.549823Z"
    }
   },
   "outputs": [
    {
     "name": "stdout",
     "output_type": "stream",
     "text": [
      "Epoch 1/15\n",
      "160/160 [==============================] - 2s 11ms/step - loss: 1.7481 - accuracy: 0.3212 - val_loss: 1.7115 - val_accuracy: 0.2946\n",
      "Epoch 2/15\n",
      "160/160 [==============================] - 2s 11ms/step - loss: 1.6792 - accuracy: 0.3301 - val_loss: 1.6583 - val_accuracy: 0.3522\n",
      "Epoch 3/15\n",
      "160/160 [==============================] - 2s 11ms/step - loss: 1.6386 - accuracy: 0.3353 - val_loss: 1.6278 - val_accuracy: 0.3522\n",
      "Epoch 4/15\n",
      "160/160 [==============================] - 2s 11ms/step - loss: 1.6124 - accuracy: 0.3353 - val_loss: 1.6150 - val_accuracy: 0.3522\n",
      "Epoch 5/15\n",
      "160/160 [==============================] - 2s 11ms/step - loss: 1.5850 - accuracy: 0.3359 - val_loss: 1.5542 - val_accuracy: 0.3527\n",
      "Epoch 6/15\n",
      "160/160 [==============================] - 4s 23ms/step - loss: 1.4099 - accuracy: 0.3885 - val_loss: 1.3981 - val_accuracy: 0.4203\n",
      "Epoch 7/15\n",
      "160/160 [==============================] - 3s 19ms/step - loss: 1.2927 - accuracy: 0.4488 - val_loss: 1.3997 - val_accuracy: 0.4113\n",
      "Epoch 8/15\n",
      "160/160 [==============================] - 3s 19ms/step - loss: 1.2276 - accuracy: 0.5266 - val_loss: 1.5896 - val_accuracy: 0.3126\n",
      "Epoch 9/15\n",
      "160/160 [==============================] - 3s 20ms/step - loss: 1.1092 - accuracy: 0.6893 - val_loss: 1.2193 - val_accuracy: 0.6378\n",
      "Epoch 10/15\n",
      "160/160 [==============================] - 2s 15ms/step - loss: 0.9552 - accuracy: 0.7796 - val_loss: 1.1248 - val_accuracy: 0.7114\n",
      "Epoch 11/15\n",
      "160/160 [==============================] - 3s 17ms/step - loss: 0.8254 - accuracy: 0.8398 - val_loss: 1.1182 - val_accuracy: 0.7244\n",
      "Epoch 12/15\n",
      "160/160 [==============================] - 2s 15ms/step - loss: 0.7252 - accuracy: 0.8948 - val_loss: 1.0527 - val_accuracy: 0.7555\n",
      "Epoch 13/15\n",
      "160/160 [==============================] - 3s 20ms/step - loss: 0.6348 - accuracy: 0.9300 - val_loss: 0.9598 - val_accuracy: 0.7916\n",
      "Epoch 14/15\n",
      "160/160 [==============================] - 3s 18ms/step - loss: 0.5550 - accuracy: 0.9452 - val_loss: 1.0592 - val_accuracy: 0.7540\n",
      "Epoch 15/15\n",
      "160/160 [==============================] - 2s 15ms/step - loss: 0.4850 - accuracy: 0.9679 - val_loss: 1.0965 - val_accuracy: 0.7490\n"
     ]
    }
   ],
   "source": [
    "model.load_weights('/kaggle/working/weights1.h5')\n",
    "\n",
    "hist2 = model.fit(x = train_vec,\n",
    "         y = train_labels,\n",
    "          batch_size = batch_size,\n",
    "         validation_data = (val_vec, val_labels),\n",
    "         epochs = 15)"
   ]
  },
  {
   "cell_type": "code",
   "execution_count": 65,
   "metadata": {
    "execution": {
     "iopub.execute_input": "2023-12-10T20:15:47.398094Z",
     "iopub.status.busy": "2023-12-10T20:15:47.397495Z",
     "iopub.status.idle": "2023-12-10T20:15:47.714014Z",
     "shell.execute_reply": "2023-12-10T20:15:47.713081Z",
     "shell.execute_reply.started": "2023-12-10T20:15:47.398059Z"
    }
   },
   "outputs": [
    {
     "data": {
      "text/plain": [
       "Text(0.5, 1.0, 'Training and Validation Accuracies: INT VEC, RNN, RMSProp')"
      ]
     },
     "execution_count": 65,
     "metadata": {},
     "output_type": "execute_result"
    },
    {
     "data": {
      "image/png": "[encoded data removed]",
      "text/plain": [
       "<Figure size 640x480 with 1 Axes>"
      ]
     },
     "metadata": {},
     "output_type": "display_data"
    }
   ],
   "source": [
    "plt.plot(hist2.history['accuracy'], color = 'blue')\n",
    "plt.plot(hist2.history['val_accuracy'], color = 'green')\n",
    "plt.title('Training and Validation Accuracies: INT VEC, RNN, RMSProp')"
   ]
  },
  {
   "cell_type": "code",
   "execution_count": 66,
   "metadata": {
    "execution": {
     "iopub.execute_input": "2023-12-10T20:16:24.409623Z",
     "iopub.status.busy": "2023-12-10T20:16:24.408613Z",
     "iopub.status.idle": "2023-12-10T20:16:25.675974Z",
     "shell.execute_reply": "2023-12-10T20:16:25.675057Z",
     "shell.execute_reply.started": "2023-12-10T20:16:24.409580Z"
    }
   },
   "outputs": [
    {
     "name": "stdout",
     "output_type": "stream",
     "text": [
      "63/63 [==============================] - 1s 4ms/step\n",
      "[[209  34  23   3   6   0]\n",
      " [ 37 171   0   3   5   8]\n",
      " [ 26   2 623  39   0   5]\n",
      " [  7   0  37 112   0   3]\n",
      " [107   3 140   1 330   0]\n",
      " [  7  15   2   5   0  37]]\n"
     ]
    },
    {
     "data": {
      "text/plain": [
       "0.741"
      ]
     },
     "execution_count": 66,
     "metadata": {},
     "output_type": "execute_result"
    }
   ],
   "source": [
    "## Check test accuracy\n",
    "test_pred = model.predict(test_vec)\n",
    "\n",
    "print(confusion_matrix(test_labels, np.argmax(test_pred, axis = -1)))\n",
    "accuracy_score(test_labels, np.argmax(test_pred, axis = -1))"
   ]
  },
  {
   "cell_type": "markdown",
   "metadata": {},
   "source": [
    "Now I have a baseline of training results. It does appear that the model is overfitting, though due to the instability of the validation accuracy, it is hard to say whether training should be stopped at epoch 10 or 12.\n",
    "\n",
    "As previously mentioned, I am going to see how the model performs when I use oversampled data."
   ]
  },
  {
   "cell_type": "code",
   "execution_count": 86,
   "metadata": {
    "execution": {
     "iopub.execute_input": "2023-12-10T20:59:31.341611Z",
     "iopub.status.busy": "2023-12-10T20:59:31.340721Z",
     "iopub.status.idle": "2023-12-10T21:01:29.398018Z",
     "shell.execute_reply": "2023-12-10T21:01:29.397063Z",
     "shell.execute_reply.started": "2023-12-10T20:59:31.341567Z"
    }
   },
   "outputs": [
    {
     "name": "stdout",
     "output_type": "stream",
     "text": [
      "Epoch 1/15\n",
      "642/642 [==============================] - 15s 23ms/step - loss: 1.7942 - accuracy: 0.1651 - val_loss: 1.7932 - val_accuracy: 0.2575\n",
      "Epoch 2/15\n",
      "642/642 [==============================] - 9s 14ms/step - loss: 1.7928 - accuracy: 0.1674 - val_loss: 1.7909 - val_accuracy: 0.3522\n",
      "Epoch 3/15\n",
      "642/642 [==============================] - 8s 13ms/step - loss: 1.7926 - accuracy: 0.1656 - val_loss: 1.7965 - val_accuracy: 0.0406\n",
      "Epoch 4/15\n",
      "642/642 [==============================] - 8s 13ms/step - loss: 1.7926 - accuracy: 0.1652 - val_loss: 1.7928 - val_accuracy: 0.0887\n",
      "Epoch 5/15\n",
      "642/642 [==============================] - 7s 11ms/step - loss: 1.7925 - accuracy: 0.1606 - val_loss: 1.7896 - val_accuracy: 0.2756\n",
      "Epoch 6/15\n",
      "642/642 [==============================] - 8s 12ms/step - loss: 1.7925 - accuracy: 0.1644 - val_loss: 1.7930 - val_accuracy: 0.0406\n",
      "Epoch 7/15\n",
      "642/642 [==============================] - 7s 10ms/step - loss: 1.7925 - accuracy: 0.1658 - val_loss: 1.7926 - val_accuracy: 0.0406\n",
      "Epoch 8/15\n",
      "642/642 [==============================] - 7s 11ms/step - loss: 1.7925 - accuracy: 0.1648 - val_loss: 1.7931 - val_accuracy: 0.3522\n",
      "Epoch 9/15\n",
      "642/642 [==============================] - 7s 11ms/step - loss: 1.7924 - accuracy: 0.1662 - val_loss: 1.7940 - val_accuracy: 0.1373\n",
      "Epoch 10/15\n",
      "642/642 [==============================] - 7s 11ms/step - loss: 1.7924 - accuracy: 0.1642 - val_loss: 1.7917 - val_accuracy: 0.1373\n",
      "Epoch 11/15\n",
      "642/642 [==============================] - 7s 11ms/step - loss: 1.7924 - accuracy: 0.1664 - val_loss: 1.7930 - val_accuracy: 0.0887\n",
      "Epoch 12/15\n",
      "642/642 [==============================] - 7s 12ms/step - loss: 1.7924 - accuracy: 0.1672 - val_loss: 1.7952 - val_accuracy: 0.0887\n",
      "Epoch 13/15\n",
      "642/642 [==============================] - 7s 11ms/step - loss: 1.7924 - accuracy: 0.1639 - val_loss: 1.7912 - val_accuracy: 0.2745\n",
      "Epoch 14/15\n",
      "642/642 [==============================] - 7s 10ms/step - loss: 1.7924 - accuracy: 0.1649 - val_loss: 1.7899 - val_accuracy: 0.3522\n",
      "Epoch 15/15\n",
      "642/642 [==============================] - 7s 11ms/step - loss: 1.7924 - accuracy: 0.1649 - val_loss: 1.7893 - val_accuracy: 0.3522\n"
     ]
    }
   ],
   "source": [
    "model.load_weights('/kaggle/working/weights1.h5')\n",
    "\n",
    "hist3 = model.fit(x = train_over,\n",
    "         y = train_lab_over,\n",
    "          batch_size = batch_size,\n",
    "         validation_data = (val_vec, val_labels),\n",
    "         epochs = 15)"
   ]
  },
  {
   "cell_type": "code",
   "execution_count": 87,
   "metadata": {
    "execution": {
     "iopub.execute_input": "2023-12-10T21:01:33.303946Z",
     "iopub.status.busy": "2023-12-10T21:01:33.303548Z",
     "iopub.status.idle": "2023-12-10T21:01:33.645752Z",
     "shell.execute_reply": "2023-12-10T21:01:33.644812Z",
     "shell.execute_reply.started": "2023-12-10T21:01:33.303914Z"
    }
   },
   "outputs": [
    {
     "name": "stdout",
     "output_type": "stream",
     "text": [
      "63/63 [==============================] - 0s 4ms/step\n",
      "[[  0   0 275   0   0   0]\n",
      " [  0   0 224   0   0   0]\n",
      " [  0   0 695   0   0   0]\n",
      " [  0   0 159   0   0   0]\n",
      " [  0   0 581   0   0   0]\n",
      " [  0   0  66   0   0   0]]\n"
     ]
    },
    {
     "data": {
      "text/plain": [
       "0.3475"
      ]
     },
     "execution_count": 87,
     "metadata": {},
     "output_type": "execute_result"
    }
   ],
   "source": [
    "## Check test accuracy\n",
    "test_over = model.predict(test_vec)\n",
    "\n",
    "print(confusion_matrix(test_labels, np.argmax(test_over, axis = -1)))\n",
    "accuracy_score(test_labels, np.argmax(test_over, axis = -1))"
   ]
  },
  {
   "cell_type": "markdown",
   "metadata": {},
   "source": [
    "The oversampled data certainly did not work! It appears that the validation accuracy is switching back and forth between different class proportions in the set, and at the end, it has predicted all emotions to label 2. Based on this behavior, I will use the regularly sampled training data for the remainder of the tuning routine.\n",
    "\n",
    "\n",
    "From the lessons, smaller batch sizes may help generalize better. In the first training iteration, the validation accuracy tops out at ~75%, while the training accuracy keeps improving. I am going to try halving the batch size and seeing if there is an improvement in the overfitting / validation accuracy.\n"
   ]
  },
  {
   "cell_type": "code",
   "execution_count": 68,
   "metadata": {
    "execution": {
     "iopub.execute_input": "2023-12-10T20:21:06.209394Z",
     "iopub.status.busy": "2023-12-10T20:21:06.208796Z",
     "iopub.status.idle": "2023-12-10T20:22:30.561123Z",
     "shell.execute_reply": "2023-12-10T20:22:30.560315Z",
     "shell.execute_reply.started": "2023-12-10T20:21:06.209362Z"
    }
   },
   "outputs": [
    {
     "name": "stdout",
     "output_type": "stream",
     "text": [
      "Epoch 1/15\n",
      "319/319 [==============================] - 20s 63ms/step - loss: 1.7175 - accuracy: 0.3279 - val_loss: 1.6637 - val_accuracy: 0.3522\n",
      "Epoch 2/15\n",
      "319/319 [==============================] - 9s 27ms/step - loss: 1.6318 - accuracy: 0.3353 - val_loss: 1.6133 - val_accuracy: 0.3522\n",
      "Epoch 3/15\n",
      "319/319 [==============================] - 6s 19ms/step - loss: 1.5974 - accuracy: 0.3353 - val_loss: 1.5921 - val_accuracy: 0.3522\n",
      "Epoch 4/15\n",
      "319/319 [==============================] - 5s 16ms/step - loss: 1.5786 - accuracy: 0.3353 - val_loss: 1.5962 - val_accuracy: 0.3522\n",
      "Epoch 5/15\n",
      "319/319 [==============================] - 5s 14ms/step - loss: 1.4118 - accuracy: 0.3806 - val_loss: 1.3821 - val_accuracy: 0.4153\n",
      "Epoch 6/15\n",
      "319/319 [==============================] - 4s 13ms/step - loss: 1.2403 - accuracy: 0.4652 - val_loss: 1.4102 - val_accuracy: 0.4474\n",
      "Epoch 7/15\n",
      "319/319 [==============================] - 4s 13ms/step - loss: 1.1064 - accuracy: 0.6394 - val_loss: 1.2150 - val_accuracy: 0.6202\n",
      "Epoch 8/15\n",
      "319/319 [==============================] - 5s 14ms/step - loss: 0.8931 - accuracy: 0.7851 - val_loss: 1.1215 - val_accuracy: 0.6839\n",
      "Epoch 9/15\n",
      "319/319 [==============================] - 4s 13ms/step - loss: 0.7623 - accuracy: 0.8369 - val_loss: 1.0950 - val_accuracy: 0.6839\n",
      "Epoch 10/15\n",
      "319/319 [==============================] - 4s 13ms/step - loss: 0.6484 - accuracy: 0.8842 - val_loss: 1.1397 - val_accuracy: 0.6764\n",
      "Epoch 11/15\n",
      "319/319 [==============================] - 4s 12ms/step - loss: 0.5492 - accuracy: 0.9142 - val_loss: 1.1202 - val_accuracy: 0.7134\n",
      "Epoch 12/15\n",
      "319/319 [==============================] - 4s 12ms/step - loss: 0.4657 - accuracy: 0.9343 - val_loss: 1.1867 - val_accuracy: 0.6869\n",
      "Epoch 13/15\n",
      "319/319 [==============================] - 4s 11ms/step - loss: 0.4046 - accuracy: 0.9551 - val_loss: 0.9215 - val_accuracy: 0.7690\n",
      "Epoch 14/15\n",
      "319/319 [==============================] - 4s 12ms/step - loss: 0.3447 - accuracy: 0.9730 - val_loss: 0.8464 - val_accuracy: 0.7921\n",
      "Epoch 15/15\n",
      "319/319 [==============================] - 4s 12ms/step - loss: 0.2963 - accuracy: 0.9814 - val_loss: 0.8381 - val_accuracy: 0.7966\n"
     ]
    }
   ],
   "source": [
    "model.load_weights('/kaggle/working/weights1.h5')\n",
    "\n",
    "hist4 = model.fit(x = train_vec,\n",
    "         y = train_labels,\n",
    "          batch_size = 50,\n",
    "         validation_data = (val_vec, val_labels),\n",
    "         epochs = 15)"
   ]
  },
  {
   "cell_type": "code",
   "execution_count": 69,
   "metadata": {
    "execution": {
     "iopub.execute_input": "2023-12-10T20:22:38.497310Z",
     "iopub.status.busy": "2023-12-10T20:22:38.496950Z",
     "iopub.status.idle": "2023-12-10T20:22:38.852340Z",
     "shell.execute_reply": "2023-12-10T20:22:38.851436Z",
     "shell.execute_reply.started": "2023-12-10T20:22:38.497283Z"
    }
   },
   "outputs": [
    {
     "data": {
      "text/plain": [
       "Text(0.5, 1.0, 'Training and Validation Accuracies: INT VEC, RNN, RMSProp, Batch=50')"
      ]
     },
     "execution_count": 69,
     "metadata": {},
     "output_type": "execute_result"
    },
    {
     "data": {
      "image/png": "[encoded data removed]",
      "text/plain": [
       "<Figure size 640x480 with 1 Axes>"
      ]
     },
     "metadata": {},
     "output_type": "display_data"
    }
   ],
   "source": [
    "plt.plot(hist4.history['accuracy'], color = 'blue')\n",
    "plt.plot(hist4.history['val_accuracy'], color = 'green')\n",
    "plt.title('Training and Validation Accuracies: INT VEC, RNN, RMSProp, Batch=50')"
   ]
  },
  {
   "cell_type": "markdown",
   "metadata": {},
   "source": [
    "It looks like decreasing the batch size had a small improvement in the overfitting, as the validation accuracy still shows an upward trajectory in epochs 12-14. Seen below, the test accuracy is also improved from 0.741 to 0.794."
   ]
  },
  {
   "cell_type": "code",
   "execution_count": 70,
   "metadata": {
    "execution": {
     "iopub.execute_input": "2023-12-10T20:23:39.133188Z",
     "iopub.status.busy": "2023-12-10T20:23:39.132309Z",
     "iopub.status.idle": "2023-12-10T20:23:39.470442Z",
     "shell.execute_reply": "2023-12-10T20:23:39.469592Z",
     "shell.execute_reply.started": "2023-12-10T20:23:39.133150Z"
    }
   },
   "outputs": [
    {
     "name": "stdout",
     "output_type": "stream",
     "text": [
      "63/63 [==============================] - 0s 4ms/step\n",
      "[[219  17  25   0  14   0]\n",
      " [ 38 168   1   5   9   3]\n",
      " [ 34  20 607  29   2   3]\n",
      " [  6  47  31  68   0   7]\n",
      " [ 38   3  27   1 512   0]\n",
      " [  4  16   3  28   1  14]]\n"
     ]
    },
    {
     "data": {
      "text/plain": [
       "0.794"
      ]
     },
     "execution_count": 70,
     "metadata": {},
     "output_type": "execute_result"
    }
   ],
   "source": [
    "## Check test accuracy\n",
    "\n",
    "test_pred2 = model.predict(test_vec)\n",
    "\n",
    "print(confusion_matrix(test_labels, np.argmax(test_pred2, axis = -1)))\n",
    "accuracy_score(test_labels, np.argmax(test_pred2, axis = -1))"
   ]
  },
  {
   "cell_type": "markdown",
   "metadata": {},
   "source": [
    "Next, I am going to try recompiling the model with RMSProp, but this time setting momentum to 0.95. I am also going to try increasing the dropout rate to 0.3 to help with overfitting."
   ]
  },
  {
   "cell_type": "code",
   "execution_count": 71,
   "metadata": {
    "execution": {
     "iopub.execute_input": "2023-12-10T20:24:45.967778Z",
     "iopub.status.busy": "2023-12-10T20:24:45.967131Z",
     "iopub.status.idle": "2023-12-10T20:24:46.719669Z",
     "shell.execute_reply": "2023-12-10T20:24:46.718788Z",
     "shell.execute_reply.started": "2023-12-10T20:24:45.967745Z"
    }
   },
   "outputs": [
    {
     "name": "stdout",
     "output_type": "stream",
     "text": [
      "Model: \"sequential_4\"\n",
      "_________________________________________________________________\n",
      " Layer (type)                Output Shape              Param #   \n",
      "=================================================================\n",
      " embedding_4 (Embedding)     (None, 50, 100)           12247300  \n",
      "                                                                 \n",
      " lstm_9 (LSTM)               (None, 50, 50)            30200     \n",
      "                                                                 \n",
      " dropout_8 (Dropout)         (None, 50, 50)            0         \n",
      "                                                                 \n",
      " gru_3 (GRU)                 (None, 50, 25)            5775      \n",
      "                                                                 \n",
      " dropout_9 (Dropout)         (None, 50, 25)            0         \n",
      "                                                                 \n",
      " lstm_10 (LSTM)              (None, 10)                1440      \n",
      "                                                                 \n",
      " dense_8 (Dense)             (None, 10)                110       \n",
      "                                                                 \n",
      " activity_regularization_4   (None, 10)                0         \n",
      " (ActivityRegularization)                                        \n",
      "                                                                 \n",
      " dense_9 (Dense)             (None, 6)                 66        \n",
      "                                                                 \n",
      "=================================================================\n",
      "Total params: 12284891 (46.86 MB)\n",
      "Trainable params: 12284891 (46.86 MB)\n",
      "Non-trainable params: 0 (0.00 Byte)\n",
      "_________________________________________________________________\n"
     ]
    }
   ],
   "source": [
    "## Build an RNN model\n",
    "\n",
    "batch_size = 50\n",
    "vocab_size = vectorizer.vocabulary_size()\n",
    "seq_len = train_vec.shape[1]\n",
    "\n",
    "model2 = keras.Sequential()\n",
    "\n",
    "# Embed vectorized text into a dense vector, scaling down by 10x\n",
    "model2.add(keras.layers.Embedding(input_dim = vocab_size,  # size of dictionary\n",
    "                                output_dim = 100,\n",
    "                                input_length = seq_len))   # length of vec sample\n",
    "\n",
    "# LSTM layer with 100 units\n",
    "model2.add(keras.layers.LSTM(50, return_sequences = True, input_shape = (50, vocab_size, 100)))\n",
    "\n",
    "model2.add(keras.layers.Dropout(0.3))\n",
    "\n",
    "# GRU layer with 50 units\n",
    "model2.add(keras.layers.GRU(units = 25, \n",
    "                          return_sequences = True))\n",
    "\n",
    "model2.add(keras.layers.Dropout(0.3))\n",
    "\n",
    "# GRU layer with 10 units\n",
    "model2.add(keras.layers.LSTM(units = 10))\n",
    "\n",
    "model2.add(keras.layers.Dense(10, activation = 'tanh'))\n",
    "\n",
    "model2.add(keras.layers.ActivityRegularization(l1=0.1, l2=0.2))\n",
    "\n",
    "# Dense layer with 6 nodes (for each classification)\n",
    "# Softmax activation for multiclass problem\n",
    "model2.add(keras.layers.Dense(6, activation = 'softmax'))\n",
    "\n",
    "model2.summary()"
   ]
  },
  {
   "cell_type": "code",
   "execution_count": 74,
   "metadata": {
    "execution": {
     "iopub.execute_input": "2023-12-10T20:27:53.973418Z",
     "iopub.status.busy": "2023-12-10T20:27:53.973056Z",
     "iopub.status.idle": "2023-12-10T20:27:54.141024Z",
     "shell.execute_reply": "2023-12-10T20:27:54.140237Z",
     "shell.execute_reply.started": "2023-12-10T20:27:53.973387Z"
    }
   },
   "outputs": [],
   "source": [
    "## Compile and train\n",
    "\n",
    "model2.compile(optimizer = keras.optimizers.RMSprop(momentum = 0.95),\n",
    "              loss = keras.losses.SparseCategoricalCrossentropy(),\n",
    "             metrics = ['accuracy'])\n",
    "\n",
    "# Save weights so that I can re-run model with different tuning and compare apples-to-apples\n",
    "model2.save_weights('/kaggle/working/weights2.h5')"
   ]
  },
  {
   "cell_type": "code",
   "execution_count": 75,
   "metadata": {
    "execution": {
     "iopub.execute_input": "2023-12-10T20:27:56.363703Z",
     "iopub.status.busy": "2023-12-10T20:27:56.363337Z",
     "iopub.status.idle": "2023-12-10T20:29:57.229248Z",
     "shell.execute_reply": "2023-12-10T20:29:57.228254Z",
     "shell.execute_reply.started": "2023-12-10T20:27:56.363672Z"
    }
   },
   "outputs": [
    {
     "name": "stdout",
     "output_type": "stream",
     "text": [
      "Epoch 1/15\n",
      "319/319 [==============================] - 38s 104ms/step - loss: 1.5785 - accuracy: 0.3353 - val_loss: 1.5865 - val_accuracy: 0.3522\n",
      "Epoch 2/15\n",
      "319/319 [==============================] - 14s 43ms/step - loss: 1.5791 - accuracy: 0.3300 - val_loss: 1.5894 - val_accuracy: 0.3522\n",
      "Epoch 3/15\n",
      "319/319 [==============================] - 9s 28ms/step - loss: 1.5786 - accuracy: 0.3353 - val_loss: 1.5921 - val_accuracy: 0.3522\n",
      "Epoch 4/15\n",
      "319/319 [==============================] - 7s 21ms/step - loss: 1.5790 - accuracy: 0.3314 - val_loss: 1.5875 - val_accuracy: 0.3522\n",
      "Epoch 5/15\n",
      "319/319 [==============================] - 6s 18ms/step - loss: 1.5805 - accuracy: 0.3311 - val_loss: 1.5835 - val_accuracy: 0.3522\n",
      "Epoch 6/15\n",
      "319/319 [==============================] - 5s 16ms/step - loss: 1.5805 - accuracy: 0.3348 - val_loss: 1.5912 - val_accuracy: 0.3512\n",
      "Epoch 7/15\n",
      "319/319 [==============================] - 5s 16ms/step - loss: 1.5542 - accuracy: 0.3668 - val_loss: 1.5803 - val_accuracy: 0.3918\n",
      "Epoch 8/15\n",
      "319/319 [==============================] - 6s 17ms/step - loss: 1.1126 - accuracy: 0.6161 - val_loss: 0.8498 - val_accuracy: 0.7159\n",
      "Epoch 9/15\n",
      "319/319 [==============================] - 5s 15ms/step - loss: 0.6421 - accuracy: 0.7701 - val_loss: 0.5495 - val_accuracy: 0.8352\n",
      "Epoch 10/15\n",
      "319/319 [==============================] - 5s 16ms/step - loss: 0.4224 - accuracy: 0.8695 - val_loss: 0.3702 - val_accuracy: 0.9188\n",
      "Epoch 11/15\n",
      "319/319 [==============================] - 4s 14ms/step - loss: 0.2583 - accuracy: 0.9538 - val_loss: 0.3302 - val_accuracy: 0.9243\n",
      "Epoch 12/15\n",
      "319/319 [==============================] - 4s 14ms/step - loss: 0.1918 - accuracy: 0.9717 - val_loss: 0.3847 - val_accuracy: 0.9264\n",
      "Epoch 13/15\n",
      "319/319 [==============================] - 4s 13ms/step - loss: 0.1514 - accuracy: 0.9804 - val_loss: 0.3326 - val_accuracy: 0.9269\n",
      "Epoch 14/15\n",
      "319/319 [==============================] - 4s 14ms/step - loss: 0.1334 - accuracy: 0.9843 - val_loss: 0.3529 - val_accuracy: 0.9274\n",
      "Epoch 15/15\n",
      "319/319 [==============================] - 4s 14ms/step - loss: 0.1115 - accuracy: 0.9879 - val_loss: 0.3876 - val_accuracy: 0.9294\n"
     ]
    }
   ],
   "source": [
    "model2.load_weights('/kaggle/working/weights2.h5')\n",
    "\n",
    "hist5 = model2.fit(x = train_vec,\n",
    "         y = train_labels,\n",
    "          batch_size = 50,\n",
    "         validation_data = (val_vec, val_labels),\n",
    "         epochs = 15)"
   ]
  },
  {
   "cell_type": "code",
   "execution_count": 77,
   "metadata": {
    "execution": {
     "iopub.execute_input": "2023-12-10T20:31:09.659357Z",
     "iopub.status.busy": "2023-12-10T20:31:09.659038Z",
     "iopub.status.idle": "2023-12-10T20:31:09.986365Z",
     "shell.execute_reply": "2023-12-10T20:31:09.985545Z",
     "shell.execute_reply.started": "2023-12-10T20:31:09.659329Z"
    }
   },
   "outputs": [
    {
     "data": {
      "text/plain": [
       "Text(0.5, 1.0, 'Training and Validation Accuracies: INT VEC, RNN, RMSProp, Batch=50, Mom=0.95')"
      ]
     },
     "execution_count": 77,
     "metadata": {},
     "output_type": "execute_result"
    },
    {
     "data": {
      "image/png": "[encoded data removed]",
      "text/plain": [
       "<Figure size 640x480 with 1 Axes>"
      ]
     },
     "metadata": {},
     "output_type": "display_data"
    }
   ],
   "source": [
    "plt.plot(hist5.history['accuracy'], color = 'blue')\n",
    "plt.plot(hist5.history['val_accuracy'], color = 'green')\n",
    "plt.title('Training and Validation Accuracies: INT VEC, RNN, RMSProp, Batch=50, Mom=0.95')"
   ]
  },
  {
   "cell_type": "code",
   "execution_count": 78,
   "metadata": {
    "execution": {
     "iopub.execute_input": "2023-12-10T20:31:56.262187Z",
     "iopub.status.busy": "2023-12-10T20:31:56.261870Z",
     "iopub.status.idle": "2023-12-10T20:31:57.509209Z",
     "shell.execute_reply": "2023-12-10T20:31:57.508270Z",
     "shell.execute_reply.started": "2023-12-10T20:31:56.262158Z"
    }
   },
   "outputs": [
    {
     "name": "stdout",
     "output_type": "stream",
     "text": [
      "63/63 [==============================] - 1s 4ms/step\n",
      "[[246  15   0   0  13   1]\n",
      " [  2 194   0   0   9  19]\n",
      " [  0   9 655  23   5   3]\n",
      " [  1   0  30 126   1   1]\n",
      " [  5   5   0   0 570   1]\n",
      " [  0  10   5   0   0  51]]\n"
     ]
    },
    {
     "data": {
      "text/plain": [
       "0.921"
      ]
     },
     "execution_count": 78,
     "metadata": {},
     "output_type": "execute_result"
    }
   ],
   "source": [
    "## Check test accuracy\n",
    "\n",
    "test_pred3 = model2.predict(test_vec)\n",
    "\n",
    "print(confusion_matrix(test_labels, np.argmax(test_pred3, axis = -1)))\n",
    "accuracy_score(test_labels, np.argmax(test_pred3, axis = -1))"
   ]
  },
  {
   "cell_type": "markdown",
   "metadata": {},
   "source": [
    "The validation accuracy is much better now, capping out at about 90%. Additionally, the test accuracy is up to 92%, much improved over 79%. It looks like the number of epochs can safely be reduced to 10 based upon the plateau in the accuracy. \n",
    "\n",
    "Given this architecture, the tuned hyperparameters of batch size = 50, dropout = 0.3, and momentum = 0.95 gives an acceptable accuracy for the emotion classifier RNN model.\n",
    "\n",
    "One last thing will be to try keeping the optimizer setup, but changing all the RNN cells to LSTM rather than having a mix of GRU and LSTM."
   ]
  },
  {
   "cell_type": "code",
   "execution_count": 79,
   "metadata": {
    "execution": {
     "iopub.execute_input": "2023-12-10T20:34:46.068015Z",
     "iopub.status.busy": "2023-12-10T20:34:46.067451Z",
     "iopub.status.idle": "2023-12-10T20:34:46.853845Z",
     "shell.execute_reply": "2023-12-10T20:34:46.852902Z",
     "shell.execute_reply.started": "2023-12-10T20:34:46.067985Z"
    }
   },
   "outputs": [
    {
     "name": "stdout",
     "output_type": "stream",
     "text": [
      "Model: \"sequential_5\"\n",
      "_________________________________________________________________\n",
      " Layer (type)                Output Shape              Param #   \n",
      "=================================================================\n",
      " embedding_5 (Embedding)     (None, 50, 100)           12247300  \n",
      "                                                                 \n",
      " lstm_11 (LSTM)              (None, 50, 50)            30200     \n",
      "                                                                 \n",
      " dropout_10 (Dropout)        (None, 50, 50)            0         \n",
      "                                                                 \n",
      " lstm_12 (LSTM)              (None, 50, 25)            7600      \n",
      "                                                                 \n",
      " dropout_11 (Dropout)        (None, 50, 25)            0         \n",
      "                                                                 \n",
      " lstm_13 (LSTM)              (None, 10)                1440      \n",
      "                                                                 \n",
      " dense_10 (Dense)            (None, 10)                110       \n",
      "                                                                 \n",
      " activity_regularization_5   (None, 10)                0         \n",
      " (ActivityRegularization)                                        \n",
      "                                                                 \n",
      " dense_11 (Dense)            (None, 6)                 66        \n",
      "                                                                 \n",
      "=================================================================\n",
      "Total params: 12286716 (46.87 MB)\n",
      "Trainable params: 12286716 (46.87 MB)\n",
      "Non-trainable params: 0 (0.00 Byte)\n",
      "_________________________________________________________________\n"
     ]
    }
   ],
   "source": [
    "## Build an RNN model\n",
    "\n",
    "batch_size = 50\n",
    "vocab_size = vectorizer.vocabulary_size()\n",
    "seq_len = train_vec.shape[1]\n",
    "\n",
    "model3 = keras.Sequential()\n",
    "\n",
    "# Embed vectorized text into a dense vector, scaling down by 10x\n",
    "model3.add(keras.layers.Embedding(input_dim = vocab_size,  # size of dictionary\n",
    "                                output_dim = 100,\n",
    "                                input_length = seq_len))   # length of vec sample\n",
    "\n",
    "# LSTM layer with 100 units\n",
    "model3.add(keras.layers.LSTM(50, \n",
    "                             return_sequences = True, \n",
    "                             input_shape = (batch_size, vocab_size, 100)))\n",
    "\n",
    "model3.add(keras.layers.Dropout(0.3))\n",
    "\n",
    "# GRU layer with 50 units\n",
    "model3.add(keras.layers.LSTM(units = 25, \n",
    "                          return_sequences = True))\n",
    "\n",
    "model3.add(keras.layers.Dropout(0.3))\n",
    "\n",
    "# GRU layer with 10 units\n",
    "model3.add(keras.layers.LSTM(units = 10))\n",
    "\n",
    "model3.add(keras.layers.Dense(10, activation = 'tanh'))\n",
    "\n",
    "model3.add(keras.layers.ActivityRegularization(l1=0.1, l2=0.2))\n",
    "\n",
    "# Dense layer with 6 nodes (for each classification)\n",
    "# Softmax activation for multiclass problem\n",
    "model3.add(keras.layers.Dense(6, activation = 'softmax'))\n",
    "\n",
    "model3.summary()"
   ]
  },
  {
   "cell_type": "code",
   "execution_count": 80,
   "metadata": {
    "execution": {
     "iopub.execute_input": "2023-12-10T20:34:54.922346Z",
     "iopub.status.busy": "2023-12-10T20:34:54.921988Z",
     "iopub.status.idle": "2023-12-10T20:34:55.075987Z",
     "shell.execute_reply": "2023-12-10T20:34:55.074966Z",
     "shell.execute_reply.started": "2023-12-10T20:34:54.922316Z"
    }
   },
   "outputs": [],
   "source": [
    "## Compile and train\n",
    "\n",
    "model3.compile(optimizer = keras.optimizers.RMSprop(momentum = 0.95),\n",
    "              loss = keras.losses.SparseCategoricalCrossentropy(),\n",
    "             metrics = ['accuracy'])\n",
    "\n",
    "# Save weights so that I can re-run model with different tuning and compare apples-to-apples\n",
    "model3.save_weights('/kaggle/working/weights3.h5')"
   ]
  },
  {
   "cell_type": "code",
   "execution_count": 81,
   "metadata": {
    "execution": {
     "iopub.execute_input": "2023-12-10T20:35:00.383902Z",
     "iopub.status.busy": "2023-12-10T20:35:00.383215Z",
     "iopub.status.idle": "2023-12-10T20:36:44.959855Z",
     "shell.execute_reply": "2023-12-10T20:36:44.958926Z",
     "shell.execute_reply.started": "2023-12-10T20:35:00.383866Z"
    }
   },
   "outputs": [
    {
     "name": "stdout",
     "output_type": "stream",
     "text": [
      "Epoch 1/15\n",
      "319/319 [==============================] - 32s 81ms/step - loss: 1.5961 - accuracy: 0.3343 - val_loss: 1.5905 - val_accuracy: 0.3522\n",
      "Epoch 2/15\n",
      "319/319 [==============================] - 11s 33ms/step - loss: 1.5795 - accuracy: 0.3308 - val_loss: 1.5908 - val_accuracy: 0.3522\n",
      "Epoch 3/15\n",
      "319/319 [==============================] - 7s 23ms/step - loss: 1.5794 - accuracy: 0.3353 - val_loss: 1.5901 - val_accuracy: 0.3522\n",
      "Epoch 4/15\n",
      "319/319 [==============================] - 6s 18ms/step - loss: 1.5790 - accuracy: 0.3323 - val_loss: 1.5879 - val_accuracy: 0.3522\n",
      "Epoch 5/15\n",
      "319/319 [==============================] - 5s 16ms/step - loss: 1.5803 - accuracy: 0.3323 - val_loss: 1.5827 - val_accuracy: 0.3522\n",
      "Epoch 6/15\n",
      "319/319 [==============================] - 5s 15ms/step - loss: 1.5790 - accuracy: 0.3330 - val_loss: 1.5873 - val_accuracy: 0.3522\n",
      "Epoch 7/15\n",
      "319/319 [==============================] - 5s 15ms/step - loss: 1.5812 - accuracy: 0.3328 - val_loss: 1.5863 - val_accuracy: 0.3522\n",
      "Epoch 8/15\n",
      "319/319 [==============================] - 5s 15ms/step - loss: 1.5806 - accuracy: 0.3353 - val_loss: 1.5844 - val_accuracy: 0.3522\n",
      "Epoch 9/15\n",
      "319/319 [==============================] - 4s 14ms/step - loss: 1.5793 - accuracy: 0.3353 - val_loss: 1.5826 - val_accuracy: 0.3522\n",
      "Epoch 10/15\n",
      "319/319 [==============================] - 5s 15ms/step - loss: 1.5788 - accuracy: 0.3346 - val_loss: 1.5888 - val_accuracy: 0.3522\n",
      "Epoch 11/15\n",
      "319/319 [==============================] - 4s 13ms/step - loss: 1.5796 - accuracy: 0.3344 - val_loss: 1.5865 - val_accuracy: 0.3522\n",
      "Epoch 12/15\n",
      "319/319 [==============================] - 4s 13ms/step - loss: 1.5808 - accuracy: 0.3353 - val_loss: 1.5875 - val_accuracy: 0.3522\n",
      "Epoch 13/15\n",
      "319/319 [==============================] - 4s 12ms/step - loss: 1.5793 - accuracy: 0.3345 - val_loss: 1.6009 - val_accuracy: 0.2886\n",
      "Epoch 14/15\n",
      "319/319 [==============================] - 4s 13ms/step - loss: 1.5275 - accuracy: 0.3732 - val_loss: 1.6239 - val_accuracy: 0.3447\n",
      "Epoch 15/15\n",
      "319/319 [==============================] - 4s 13ms/step - loss: 1.2669 - accuracy: 0.5441 - val_loss: 1.2055 - val_accuracy: 0.6057\n"
     ]
    }
   ],
   "source": [
    "model3.load_weights('/kaggle/working/weights3.h5')\n",
    "\n",
    "hist6 = model3.fit(x = train_vec,\n",
    "         y = train_labels,\n",
    "          batch_size = 50,\n",
    "         validation_data = (val_vec, val_labels),\n",
    "         epochs = 15)"
   ]
  },
  {
   "cell_type": "code",
   "execution_count": 88,
   "metadata": {
    "execution": {
     "iopub.execute_input": "2023-12-10T21:04:54.732653Z",
     "iopub.status.busy": "2023-12-10T21:04:54.732018Z",
     "iopub.status.idle": "2023-12-10T21:04:55.895805Z",
     "shell.execute_reply": "2023-12-10T21:04:55.894872Z",
     "shell.execute_reply.started": "2023-12-10T21:04:54.732618Z"
    }
   },
   "outputs": [
    {
     "name": "stdout",
     "output_type": "stream",
     "text": [
      "63/63 [==============================] - 1s 4ms/step\n",
      "[[  9   5 189   7  12  53]\n",
      " [  4   3 168   6   8  35]\n",
      " [ 26  16 481  21  28 123]\n",
      " [  4   0 102   3  14  36]\n",
      " [ 27   8 401  13  26 106]\n",
      " [  2   2  44   1   4  13]]\n"
     ]
    },
    {
     "data": {
      "text/plain": [
       "0.2675"
      ]
     },
     "execution_count": 88,
     "metadata": {},
     "output_type": "execute_result"
    }
   ],
   "source": [
    "## Check test accuracy\n",
    "\n",
    "test_pred4 = model3.predict(test_vec)\n",
    "\n",
    "print(confusion_matrix(test_labels, np.argmax(test_pred4, axis = -1)))\n",
    "accuracy_score(test_labels, np.argmax(test_pred4, axis = -1))"
   ]
  },
  {
   "cell_type": "markdown",
   "metadata": {},
   "source": [
    "Changing each recurrent cell to LSTM made the model take longer to converge, where the maximum training accuracy only reached 54% by epoch 15, whereas before it was over 98%.\n",
    "\n",
    "Based on this phenomenon, I will try the reverse: switching all the recurrent cells to GRU. Will this make the model train faster?"
   ]
  },
  {
   "cell_type": "code",
   "execution_count": 83,
   "metadata": {
    "execution": {
     "iopub.execute_input": "2023-12-10T20:39:47.855649Z",
     "iopub.status.busy": "2023-12-10T20:39:47.855274Z",
     "iopub.status.idle": "2023-12-10T20:39:48.581218Z",
     "shell.execute_reply": "2023-12-10T20:39:48.580337Z",
     "shell.execute_reply.started": "2023-12-10T20:39:47.855615Z"
    }
   },
   "outputs": [
    {
     "name": "stdout",
     "output_type": "stream",
     "text": [
      "Model: \"sequential_7\"\n",
      "_________________________________________________________________\n",
      " Layer (type)                Output Shape              Param #   \n",
      "=================================================================\n",
      " embedding_7 (Embedding)     (None, 50, 100)           12247300  \n",
      "                                                                 \n",
      " gru_7 (GRU)                 (None, 50, 50)            22800     \n",
      "                                                                 \n",
      " dropout_14 (Dropout)        (None, 50, 50)            0         \n",
      "                                                                 \n",
      " gru_8 (GRU)                 (None, 50, 25)            5775      \n",
      "                                                                 \n",
      " dropout_15 (Dropout)        (None, 50, 25)            0         \n",
      "                                                                 \n",
      " gru_9 (GRU)                 (None, 10)                1110      \n",
      "                                                                 \n",
      " dense_14 (Dense)            (None, 10)                110       \n",
      "                                                                 \n",
      " activity_regularization_7   (None, 10)                0         \n",
      " (ActivityRegularization)                                        \n",
      "                                                                 \n",
      " dense_15 (Dense)            (None, 6)                 66        \n",
      "                                                                 \n",
      "=================================================================\n",
      "Total params: 12277161 (46.83 MB)\n",
      "Trainable params: 12277161 (46.83 MB)\n",
      "Non-trainable params: 0 (0.00 Byte)\n",
      "_________________________________________________________________\n"
     ]
    }
   ],
   "source": [
    "## Build an RNN model\n",
    "\n",
    "batch_size = 50\n",
    "vocab_size = vectorizer.vocabulary_size()\n",
    "seq_len = train_vec.shape[1]\n",
    "\n",
    "model4 = keras.Sequential()\n",
    "\n",
    "# Embed vectorized text into a dense vector, scaling down by 10x\n",
    "model4.add(keras.layers.Embedding(input_dim = vocab_size,  # size of dictionary\n",
    "                                output_dim = 100,\n",
    "                                input_length = seq_len))   # length of vec sample\n",
    "\n",
    "# LSTM layer with 100 units\n",
    "model4.add(keras.layers.GRU(50, \n",
    "                             return_sequences = True, \n",
    "                             input_shape = (batch_size, vocab_size, 100)))\n",
    "\n",
    "model4.add(keras.layers.Dropout(0.3))\n",
    "\n",
    "# GRU layer with 50 units\n",
    "model4.add(keras.layers.GRU(units = 25, \n",
    "                          return_sequences = True))\n",
    "\n",
    "model4.add(keras.layers.Dropout(0.3))\n",
    "\n",
    "# GRU layer with 10 units\n",
    "model4.add(keras.layers.GRU(units = 10))\n",
    "\n",
    "model4.add(keras.layers.Dense(10, activation = 'tanh'))\n",
    "\n",
    "model4.add(keras.layers.ActivityRegularization(l1=0.1, l2=0.2))\n",
    "\n",
    "# Dense layer with 6 nodes (for each classification)\n",
    "# Softmax activation for multiclass problem\n",
    "model4.add(keras.layers.Dense(6, activation = 'softmax'))\n",
    "\n",
    "model4.summary()"
   ]
  },
  {
   "cell_type": "code",
   "execution_count": 84,
   "metadata": {
    "execution": {
     "iopub.execute_input": "2023-12-10T20:39:57.384266Z",
     "iopub.status.busy": "2023-12-10T20:39:57.383519Z",
     "iopub.status.idle": "2023-12-10T20:39:57.510047Z",
     "shell.execute_reply": "2023-12-10T20:39:57.509021Z",
     "shell.execute_reply.started": "2023-12-10T20:39:57.384233Z"
    }
   },
   "outputs": [],
   "source": [
    "## Compile and train\n",
    "\n",
    "model4.compile(optimizer = keras.optimizers.RMSprop(momentum = 0.95),\n",
    "              loss = keras.losses.SparseCategoricalCrossentropy(),\n",
    "             metrics = ['accuracy'])\n",
    "\n",
    "# Save weights so that I can re-run model with different tuning and compare apples-to-apples\n",
    "model4.save_weights('/kaggle/working/weights4.h5')"
   ]
  },
  {
   "cell_type": "code",
   "execution_count": 85,
   "metadata": {
    "execution": {
     "iopub.execute_input": "2023-12-10T20:40:17.914002Z",
     "iopub.status.busy": "2023-12-10T20:40:17.913630Z",
     "iopub.status.idle": "2023-12-10T20:42:44.456923Z",
     "shell.execute_reply": "2023-12-10T20:42:44.455994Z",
     "shell.execute_reply.started": "2023-12-10T20:40:17.913973Z"
    }
   },
   "outputs": [
    {
     "name": "stdout",
     "output_type": "stream",
     "text": [
      "Epoch 1/15\n",
      "319/319 [==============================] - 31s 81ms/step - loss: 1.5971 - accuracy: 0.3350 - val_loss: 1.5876 - val_accuracy: 0.3522\n",
      "Epoch 2/15\n",
      "319/319 [==============================] - 11s 33ms/step - loss: 1.5787 - accuracy: 0.3314 - val_loss: 1.5894 - val_accuracy: 0.3522\n",
      "Epoch 3/15\n",
      "319/319 [==============================] - 7s 23ms/step - loss: 1.5792 - accuracy: 0.3353 - val_loss: 1.5877 - val_accuracy: 0.3522\n",
      "Epoch 4/15\n",
      "319/319 [==============================] - 6s 18ms/step - loss: 1.5793 - accuracy: 0.3323 - val_loss: 1.5890 - val_accuracy: 0.3522\n",
      "Epoch 5/15\n",
      "319/319 [==============================] - 5s 16ms/step - loss: 1.5796 - accuracy: 0.3328 - val_loss: 1.5824 - val_accuracy: 0.3522\n",
      "Epoch 6/15\n",
      "319/319 [==============================] - 5s 15ms/step - loss: 1.5793 - accuracy: 0.3325 - val_loss: 1.5824 - val_accuracy: 0.3522\n",
      "Epoch 7/15\n",
      "319/319 [==============================] - 4s 14ms/step - loss: 1.5810 - accuracy: 0.3333 - val_loss: 1.5871 - val_accuracy: 0.3522\n",
      "Epoch 8/15\n",
      "319/319 [==============================] - 5s 15ms/step - loss: 1.5798 - accuracy: 0.3353 - val_loss: 1.5829 - val_accuracy: 0.3522\n",
      "Epoch 9/15\n",
      "319/319 [==============================] - 4s 14ms/step - loss: 1.5789 - accuracy: 0.3353 - val_loss: 1.5823 - val_accuracy: 0.3522\n",
      "Epoch 10/15\n",
      "319/319 [==============================] - 5s 14ms/step - loss: 1.5794 - accuracy: 0.3350 - val_loss: 1.5864 - val_accuracy: 0.3522\n",
      "Epoch 11/15\n",
      "319/319 [==============================] - 4s 13ms/step - loss: 1.5796 - accuracy: 0.3337 - val_loss: 1.5869 - val_accuracy: 0.3522\n",
      "Epoch 12/15\n",
      "319/319 [==============================] - 4s 13ms/step - loss: 1.5811 - accuracy: 0.3337 - val_loss: 1.5859 - val_accuracy: 0.3522\n",
      "Epoch 13/15\n",
      "319/319 [==============================] - 4s 13ms/step - loss: 1.5804 - accuracy: 0.3335 - val_loss: 1.5903 - val_accuracy: 0.3522\n",
      "Epoch 14/15\n",
      "319/319 [==============================] - 4s 13ms/step - loss: 1.5806 - accuracy: 0.3332 - val_loss: 1.5897 - val_accuracy: 0.3522\n",
      "Epoch 15/15\n",
      "319/319 [==============================] - 4s 13ms/step - loss: 1.5808 - accuracy: 0.3343 - val_loss: 1.5846 - val_accuracy: 0.3522\n"
     ]
    }
   ],
   "source": [
    "model4.load_weights('/kaggle/working/weights4.h5')\n",
    "\n",
    "hist7 = model4.fit(x = train_vec,\n",
    "         y = train_labels,\n",
    "          batch_size = 50,\n",
    "         validation_data = (val_vec, val_labels),\n",
    "         epochs = 15)"
   ]
  },
  {
   "cell_type": "markdown",
   "metadata": {},
   "source": [
    "This model got stuck at 0.3522 validation accuracy and did not show any learning throughout the epochs. Therefore it appears that the ideal model is a mix of LSTM (long short term memory) and GRU (gated recurrent unit) cells."
   ]
  },
  {
   "cell_type": "code",
   "execution_count": 89,
   "metadata": {
    "execution": {
     "iopub.execute_input": "2023-12-10T21:08:30.012853Z",
     "iopub.status.busy": "2023-12-10T21:08:30.012112Z",
     "iopub.status.idle": "2023-12-10T21:09:06.819708Z",
     "shell.execute_reply": "2023-12-10T21:09:06.818860Z",
     "shell.execute_reply.started": "2023-12-10T21:08:30.012821Z"
    }
   },
   "outputs": [
    {
     "name": "stdout",
     "output_type": "stream",
     "text": [
      "Epoch 1/10\n",
      "319/319 [==============================] - 4s 11ms/step - loss: 1.5797 - accuracy: 0.3353 - val_loss: 1.5865 - val_accuracy: 0.3522\n",
      "Epoch 2/10\n",
      "319/319 [==============================] - 4s 11ms/step - loss: 1.5796 - accuracy: 0.3326 - val_loss: 1.5893 - val_accuracy: 0.3522\n",
      "Epoch 3/10\n",
      "319/319 [==============================] - 4s 11ms/step - loss: 1.5793 - accuracy: 0.3353 - val_loss: 1.5889 - val_accuracy: 0.3522\n",
      "Epoch 4/10\n",
      "319/319 [==============================] - 4s 11ms/step - loss: 1.5795 - accuracy: 0.3320 - val_loss: 1.5875 - val_accuracy: 0.3522\n",
      "Epoch 5/10\n",
      "319/319 [==============================] - 4s 11ms/step - loss: 1.5802 - accuracy: 0.3343 - val_loss: 1.5825 - val_accuracy: 0.3522\n",
      "Epoch 6/10\n",
      "319/319 [==============================] - 4s 12ms/step - loss: 1.5799 - accuracy: 0.3323 - val_loss: 1.5877 - val_accuracy: 0.3522\n",
      "Epoch 7/10\n",
      "319/319 [==============================] - 4s 11ms/step - loss: 1.5794 - accuracy: 0.3331 - val_loss: 1.5918 - val_accuracy: 0.3522\n",
      "Epoch 8/10\n",
      "319/319 [==============================] - 4s 12ms/step - loss: 1.3347 - accuracy: 0.5115 - val_loss: 0.9501 - val_accuracy: 0.6979\n",
      "Epoch 9/10\n",
      "319/319 [==============================] - 4s 11ms/step - loss: 0.7354 - accuracy: 0.7394 - val_loss: 0.6290 - val_accuracy: 0.8091\n",
      "Epoch 10/10\n",
      "319/319 [==============================] - 4s 11ms/step - loss: 0.4448 - accuracy: 0.8603 - val_loss: 0.3648 - val_accuracy: 0.9203\n"
     ]
    }
   ],
   "source": [
    "## Final test accuracy after training best model (#4) to 10 epochs\n",
    "\n",
    "model2.load_weights('/kaggle/working/weights2.h5')\n",
    "\n",
    "hist_final = model2.fit(x = train_vec,\n",
    "         y = train_labels,\n",
    "          batch_size = 50,\n",
    "         validation_data = (val_vec, val_labels),\n",
    "         epochs = 10)\n"
   ]
  },
  {
   "cell_type": "code",
   "execution_count": 90,
   "metadata": {
    "execution": {
     "iopub.execute_input": "2023-12-10T21:09:33.855536Z",
     "iopub.status.busy": "2023-12-10T21:09:33.854620Z",
     "iopub.status.idle": "2023-12-10T21:09:34.193327Z",
     "shell.execute_reply": "2023-12-10T21:09:34.192371Z",
     "shell.execute_reply.started": "2023-12-10T21:09:33.855496Z"
    }
   },
   "outputs": [
    {
     "name": "stdout",
     "output_type": "stream",
     "text": [
      "63/63 [==============================] - 0s 4ms/step\n",
      "[[245  17   1   0  12   0]\n",
      " [  4 203   0   1  11   5]\n",
      " [  0   6 646  38   5   0]\n",
      " [  1   1  22 133   2   0]\n",
      " [  0  11  13   0 557   0]\n",
      " [  0  21   6   2   3  34]]\n"
     ]
    },
    {
     "data": {
      "text/plain": [
       "0.909"
      ]
     },
     "execution_count": 90,
     "metadata": {},
     "output_type": "execute_result"
    }
   ],
   "source": [
    "## Check test accuracy\n",
    "\n",
    "test_pred_final = model2.predict(test_vec)\n",
    "\n",
    "print(confusion_matrix(test_labels, np.argmax(test_pred_final, axis = -1)))\n",
    "accuracy_score(test_labels, np.argmax(test_pred_final, axis = -1))"
   ]
  },
  {
   "cell_type": "markdown",
   "metadata": {},
   "source": [
    "The final test accuracy after 10 epochs of training on the best RNN model is 90.9%, which is slightly below the test accuracy from 15 epochs. But given the observed overfitting in the original run, this model is more likely to be generalizable than the 15 epoch run."
   ]
  },
  {
   "cell_type": "code",
   "execution_count": 91,
   "metadata": {
    "execution": {
     "iopub.execute_input": "2023-12-10T21:28:55.657142Z",
     "iopub.status.busy": "2023-12-10T21:28:55.656401Z",
     "iopub.status.idle": "2023-12-10T21:28:55.945246Z",
     "shell.execute_reply": "2023-12-10T21:28:55.944226Z",
     "shell.execute_reply.started": "2023-12-10T21:28:55.657105Z"
    }
   },
   "outputs": [
    {
     "data": {
      "text/plain": [
       "Text(0.5, 1.0, 'Final Training and Validation Accuracies for the Optimized RNN Model')"
      ]
     },
     "execution_count": 91,
     "metadata": {},
     "output_type": "execute_result"
    },
    {
     "data": {
      "image/png": "[encoded data removed]",
      "text/plain": [
       "<Figure size 640x480 with 1 Axes>"
      ]
     },
     "metadata": {},
     "output_type": "display_data"
    }
   ],
   "source": [
    "plt.plot(hist_final.history['accuracy'], color = 'blue')\n",
    "plt.plot(hist_final.history['val_accuracy'], color = 'green')\n",
    "plt.title('Final Training and Validation Accuracies for the Optimized RNN Model')"
   ]
  },
  {
   "cell_type": "markdown",
   "metadata": {},
   "source": [
    "### Results and Conclusion\n",
    "\n",
    "**Training Summary**\n",
    "\n",
    "Overall, I found that decreasing the batch size, increasing the dropout rate, and adding momentum to the RMSProp optimizer were the most successful improvements to the training accuracy. Through these improvements, test accuracy was increased from 74.1% to 92.1% after 15 epochs of training. However, in all cases, overfitting was noted, so for the final results I re-trained the optimized model, stopping at 10 epochs, and recorded the test accuracy.\n",
    "\n",
    "|Model Number | Architecture | Optimizer | Batch Size | Epochs | Test Accuracy |\n",
    "| ----------- | --------------| --------- | ---------- | ------ | -------------- |\n",
    "| 1 | LSTM(50), D/O(0.2), GRU(25), D/O(0.2), LSTM(10), Dense(10), ActReg, Dense(6) | RMSProp | 100 | 15 | 0.741 |\n",
    "| 2 | Oversample: LSTM(50), D/O(0.2), GRU(25), D/O(0.2), LSTM(10), Dense(10), ActReg, Dense(6) | RMSProp | 100 | 15 | 0.348 |\n",
    "| 3 | LSTM(50), D/O(0.2), GRU(25), D/O(0.2), LSTM(10), Dense(10), ActReg, Dense(6) | RMSProp | 50 | 15 | 0.794 |\n",
    "| 4 | LSTM(50), D/O(0.3), GRU(25), D/O(0.3), LSTM(10), Dense(10), ActReg, Dense(6) | RMSProp, Mom = 0.95 | 50 | 15 | 0.921 |\n",
    "| 5 | LSTM(50), D/O(0.3), LSTM(25), D/O(0.3), LSTM(10), Dense(10), ActReg, Dense(6) | RMSProp, Mom = 0.95 | 50 | 15 | 0.268 |\n",
    "| 6 | GRU(50), D/O(0.3), GRU(25), D/O(0.3), GRU(10), Dense(10), ActReg, Dense(6) | RMSProp, Mom = 0.95 | 50 | 15 | 0.348 |\n",
    "| 7 | LSTM(50), D/O(0.3), GRU(25), D/O(0.3), LSTM(10), Dense(10), ActReg, Dense(6) | RMSProp, Mom = 0.95 | 50 | 10 | 0.909 |"
   ]
  },
  {
   "cell_type": "markdown",
   "metadata": {},
   "source": [
    "**Conclusion**\n",
    "\n",
    "Deep learning algorithms, and particularly Recurrent Neural Networks, are suitable for analyzing the emotional intent behind free text data. Natural language processing must first be performed, and there are many different vectorization options to choose from. This analysis focused on integer outputs of bigrams, however other methods like Text Frequency-Inverse Document Frequency (TF-IDF) or Word2Vec vectorizers may also work. I decided to use bigrams given the contextual nature of emotional intent, as I didn't think that a single word as a feature would capture enough information.\n",
    "\n",
    "The RNN setup was similar to prior CNN architectures, where the general idea is to have repeat layers of recurrent cells with dropout layers in between to prevent overfitting. The final output layer consists of 6 neurons with softmax activation to match the 6 emotion classes in the given dataset.\n",
    "\n",
    "I found that the given data was imbalanced with respect to the emotion proportions, but balanced in the representation within the training, validation, and test sets. In general, balanced class counts will produce a more robust model, however in my experiment oversampling with SMOTE performed poorly. For future work, it would be interesting to see if the proportional breakdown between emotional classes reflects human nature: i.e. how often to people feel fear vs. joy and sadness vs. love? Should the dataset remain imbalanced to reflect human patterns?\n",
    "\n",
    "The best model's architecture consisted of an embedding layer with output length = 100, then a LSTM cell with 50 units, a 30% dropout layer, a GRU cell with 25 units, a 30% dropout layer, a LSTM cell with 10 units, then a tanh activated dense layer with 10 neurons, followed by an Activity Regularizer, then finally a 6-neuron dense layer with softmax activation. It uses the RMSProp optimizer with 0.95 momentum and a batch size of 50.\n",
    "\n",
    "This model classified the 6 emotions with 92% test accuracy after 15 epochs, and 91% accuracy after 10 epochs. In order to mitigate overfitting and output a generalizable model, 10 epochs of training are recommended."
   ]
  }
 ],
 "metadata": {
  "kaggle": {
   "accelerator": "gpu",
   "dataSources": [
    {
     "datasetId": 605165,
     "sourceId": 1085454,
     "sourceType": "datasetVersion"
    }
   ],
   "dockerImageVersionId": 30616,
   "isGpuEnabled": true,
   "isInternetEnabled": true,
   "language": "python",
   "sourceType": "notebook"
  },
  "kernelspec": {
   "display_name": "Python 3 (ipykernel)",
   "language": "python",
   "name": "python3"
  },
  "language_info": {
   "codemirror_mode": {
    "name": "ipython",
    "version": 3
   },
   "file_extension": ".py",
   "mimetype": "text/x-python",
   "name": "python",
   "nbconvert_exporter": "python",
   "pygments_lexer": "ipython3",
   "version": "3.10.5"
  }
 },
 "nbformat": 4,
 "nbformat_minor": 4
}
